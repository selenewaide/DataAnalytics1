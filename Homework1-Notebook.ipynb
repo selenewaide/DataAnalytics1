{
 "cells": [
  {
   "cell_type": "markdown",
   "metadata": {},
   "source": [
    "# Homework1\n",
    "\n",
    "Please upload to Moodle your archive containing your Jupyter Notebook with solutions and all data required to reproduce your solutions. Please also prepare a requirements.txt file which lists all the packages that you use for your homework, one package per line (e.g., pandas). This will allow us to install all required packages in one go, by using \"pip install -r requirements.txt\".\n",
    "Please name your archive using your full name and student id. For your Notebook please split the code and explanations into many little cells so it is easy to see and read the results of each step of your solution. Please remember to name your variables and methods with self-explanatory names. Please remember to write comments and where needed, justifications, for the decisions you make and code you write.\n",
    "Your code and analysis is like a story that awaits to be read, make it a nice story please!\n",
    "\n",
    "**Deadline: Sunday, 26 February, 2017, midnight.** "
   ]
  },
  {
   "cell_type": "markdown",
   "metadata": {},
   "source": [
    "## Exercises\n",
    "\n",
    "This homework focuses on data exploration and preparation for a particular problem and dataset.\n",
    "The problem and data come from the Amazon online shopping platform. Several sellers can sell the same product on Amazon. Based on the data provided by the seller to Amazon (seller reputation, product price, shipping details, etc) Amazon ranks seller offers from best to worst for a given product. This ranking is mostly influenced by the product price offer of the seller, but it can also be influenced by other features. The goal is to explore and transform the data to try and understand which features are most indicative of a seller being ranked first by Amazon for a product. When the seller is ranked first for a product we say that the seller is the 'winner' among all the offers, because their offer is shown first when a user searches for a product on Amazon, which increases their chances of selling the product.\n",
    "\n",
    "We have a CSV file describing offers by given sellers for given products and a column which records whether an offer was a winner or not.\n",
    "\n",
    "(1). [50] Prepare a data quality report for the CSV file. \n",
    "    - [2.5] Check how many rows and columns your CSV has.\n",
    "    - [2.5] Show the first and the last 5 rows.\n",
    "    - [10] Prepare a table with descriptive statistics for all the continuous features.\n",
    "    - [10] Prepare a table with descriptive statistics for all the categorical features.\n",
    "    - [5] Drop duplicate rows and columns, if any.\n",
    "    - [5] Drop constant columns, if any.\n",
    "    \n",
    "    For the updated CSV and data frame (after column/row removal):\n",
    "    - [2.5] Prepare a table with descriptive statistics for all the continuous features.\n",
    "    - [2.5] Prepare a table with descriptive statistics for all the categorical features.\n",
    "    - [2.5] Plot histograms for all the continuous features.\n",
    "    - [2.5] Plot box plots for all the continuous features.\n",
    "    - [2.5] Plot bar plots for all the categorical features.\n",
    "    - [2.5] Save all the tables, plots and initial discussion of your findings, into a single data quality report file.   \n",
    "\n",
    "(2). [30] Prepare a data quality plan for the CSV file.\n",
    "    - [10] Mark down all the features where there are potential problems or data quality issues.\n",
    "    - [10] Propose solutions to deal with the problems identified. Explain why did you choose one solution over (potentially many) other.\n",
    "    - [10] Apply your solutions to obtain a new CSV file where the data quality issues identified were addressed. Save the new CSV file with a self_explanatory name. Save the data quality plan to a single file (as a table or structured text).\n",
    "        \n",
    "(3). [20] Exploring relationships between feature pairs:\n",
    "    - [10] Choose a subset of features you find promising and plot pairwise feature interactions (e.g., continuous-continuous feature plot or continuous-categorical plots or correlation plots). Explain your choices.\n",
    "    - [10] Discuss your findings from the plots above. Do you find any features or feature combinations that are indicative of the target outcome (IsWinner)? Explain in plain words (a short paragraph) the story of your findings so far.\n"
   ]
  },
  {
   "cell_type": "markdown",
   "metadata": {},
   "source": [
    "# Importing packages and reading in the csv file."
   ]
  },
  {
   "cell_type": "code",
   "execution_count": 147,
   "metadata": {
    "collapsed": false
   },
   "outputs": [],
   "source": [
    "# Import pandas, numpy and matplotlib libraries\n",
    "import pandas as pd\n",
    "import numpy as np\n",
    "import matplotlib.pyplot as plt\n",
    "import matplotlib.patches as mpatches\n",
    "import seaborn as sns # used for plots and pairwise feature interactions\n",
    "from matplotlib.backends.backend_pdf import PdfPages\n",
    "%matplotlib inline"
   ]
  },
  {
   "cell_type": "code",
   "execution_count": 148,
   "metadata": {
    "collapsed": true
   },
   "outputs": [],
   "source": [
    "# Reading from a csv file, into a data frame\n",
    "# This csv file is in the same folder and the notebook file, therefore it does not need a full path\n",
    "df = pd.read_csv('amazon-offers-10k-samples-raw.csv')"
   ]
  },
  {
   "cell_type": "markdown",
   "metadata": {},
   "source": [
    "# (1) Data quality report for the CSV file.\n",
    "\n",
    "## Check how many rows and columns your CSV has."
   ]
  },
  {
   "cell_type": "code",
   "execution_count": 149,
   "metadata": {
    "collapsed": false
   },
   "outputs": [
    {
     "data": {
      "text/plain": [
       "(10000, 21)"
      ]
     },
     "execution_count": 149,
     "metadata": {},
     "output_type": "execute_result"
    }
   ],
   "source": [
    "# Number of rows and columns in this dataframe displayed as (row no., column no.)\n",
    "df.shape"
   ]
  },
  {
   "cell_type": "markdown",
   "metadata": {},
   "source": [
    "## Show the first and the last 5 rows."
   ]
  },
  {
   "cell_type": "code",
   "execution_count": 150,
   "metadata": {
    "collapsed": false
   },
   "outputs": [
    {
     "data": {
      "text/html": [
       "<div>\n",
       "<table border=\"1\" class=\"dataframe\">\n",
       "  <thead>\n",
       "    <tr style=\"text-align: right;\">\n",
       "      <th></th>\n",
       "      <th>IsWinner</th>\n",
       "      <th>MarketplaceId</th>\n",
       "      <th>ProductId</th>\n",
       "      <th>TimeOfOfferChange</th>\n",
       "      <th>ConditionNotes</th>\n",
       "      <th>IsFeaturedMerchant</th>\n",
       "      <th>IsFulfilledByAmazon</th>\n",
       "      <th>ListingPrice</th>\n",
       "      <th>ListingCurrency</th>\n",
       "      <th>SellerFeedbackRating</th>\n",
       "      <th>...</th>\n",
       "      <th>SellerId</th>\n",
       "      <th>ShippingPrice</th>\n",
       "      <th>ShippingCurrency</th>\n",
       "      <th>ShippingTime_minHours</th>\n",
       "      <th>ShippingTime_maxHours</th>\n",
       "      <th>ShippingTime_availtype</th>\n",
       "      <th>ShipsDomestically</th>\n",
       "      <th>ShipsFromCountry</th>\n",
       "      <th>ShipsFromState</th>\n",
       "      <th>SubCondition</th>\n",
       "    </tr>\n",
       "  </thead>\n",
       "  <tbody>\n",
       "    <tr>\n",
       "      <th>0</th>\n",
       "      <td>0</td>\n",
       "      <td>1156461832353164887</td>\n",
       "      <td>-4885255916155087854</td>\n",
       "      <td>2016-02-04T04:26:52.136Z</td>\n",
       "      <td>NaN</td>\n",
       "      <td>1</td>\n",
       "      <td>1</td>\n",
       "      <td>94.00</td>\n",
       "      <td>CAD</td>\n",
       "      <td>0</td>\n",
       "      <td>...</td>\n",
       "      <td>1207135739277432339</td>\n",
       "      <td>0.00</td>\n",
       "      <td>CAD</td>\n",
       "      <td>672</td>\n",
       "      <td>1008</td>\n",
       "      <td>NOW</td>\n",
       "      <td>1</td>\n",
       "      <td>NaN</td>\n",
       "      <td>NaN</td>\n",
       "      <td>new</td>\n",
       "    </tr>\n",
       "    <tr>\n",
       "      <th>1</th>\n",
       "      <td>1</td>\n",
       "      <td>1156461832353164887</td>\n",
       "      <td>-4885255916155087854</td>\n",
       "      <td>2016-02-04T04:26:52.136Z</td>\n",
       "      <td>Ready To Ship - We are unable to ship to PO Bo...</td>\n",
       "      <td>1</td>\n",
       "      <td>0</td>\n",
       "      <td>107.35</td>\n",
       "      <td>CAD</td>\n",
       "      <td>95</td>\n",
       "      <td>...</td>\n",
       "      <td>-1789487307643024748</td>\n",
       "      <td>0.00</td>\n",
       "      <td>CAD</td>\n",
       "      <td>48</td>\n",
       "      <td>72</td>\n",
       "      <td>NOW</td>\n",
       "      <td>1</td>\n",
       "      <td>CA</td>\n",
       "      <td>ON</td>\n",
       "      <td>new</td>\n",
       "    </tr>\n",
       "    <tr>\n",
       "      <th>2</th>\n",
       "      <td>0</td>\n",
       "      <td>1156461832353164887</td>\n",
       "      <td>-4885255916155087854</td>\n",
       "      <td>2016-02-04T04:26:52.136Z</td>\n",
       "      <td>.</td>\n",
       "      <td>1</td>\n",
       "      <td>0</td>\n",
       "      <td>100.46</td>\n",
       "      <td>CAD</td>\n",
       "      <td>98</td>\n",
       "      <td>...</td>\n",
       "      <td>5452082314297826053</td>\n",
       "      <td>6.99</td>\n",
       "      <td>CAD</td>\n",
       "      <td>24</td>\n",
       "      <td>48</td>\n",
       "      <td>NOW</td>\n",
       "      <td>1</td>\n",
       "      <td>CA</td>\n",
       "      <td>ON</td>\n",
       "      <td>new</td>\n",
       "    </tr>\n",
       "    <tr>\n",
       "      <th>3</th>\n",
       "      <td>0</td>\n",
       "      <td>1156461832353164887</td>\n",
       "      <td>-4885255916155087854</td>\n",
       "      <td>2016-02-04T04:26:52.136Z</td>\n",
       "      <td>Fast shipping in Canada.</td>\n",
       "      <td>1</td>\n",
       "      <td>0</td>\n",
       "      <td>99.24</td>\n",
       "      <td>CAD</td>\n",
       "      <td>95</td>\n",
       "      <td>...</td>\n",
       "      <td>-2572277640783537773</td>\n",
       "      <td>11.67</td>\n",
       "      <td>CAD</td>\n",
       "      <td>24</td>\n",
       "      <td>48</td>\n",
       "      <td>NOW</td>\n",
       "      <td>1</td>\n",
       "      <td>CA</td>\n",
       "      <td>ON</td>\n",
       "      <td>new</td>\n",
       "    </tr>\n",
       "    <tr>\n",
       "      <th>4</th>\n",
       "      <td>0</td>\n",
       "      <td>1156461832353164887</td>\n",
       "      <td>-4885255916155087854</td>\n",
       "      <td>2016-02-04T04:26:52.136Z</td>\n",
       "      <td>NaN</td>\n",
       "      <td>0</td>\n",
       "      <td>0</td>\n",
       "      <td>109.48</td>\n",
       "      <td>CAD</td>\n",
       "      <td>94</td>\n",
       "      <td>...</td>\n",
       "      <td>-8704029307873847986</td>\n",
       "      <td>8.99</td>\n",
       "      <td>CAD</td>\n",
       "      <td>24</td>\n",
       "      <td>48</td>\n",
       "      <td>NOW</td>\n",
       "      <td>1</td>\n",
       "      <td>CA</td>\n",
       "      <td>ON</td>\n",
       "      <td>new</td>\n",
       "    </tr>\n",
       "  </tbody>\n",
       "</table>\n",
       "<p>5 rows × 21 columns</p>\n",
       "</div>"
      ],
      "text/plain": [
       "   IsWinner        MarketplaceId            ProductId  \\\n",
       "0         0  1156461832353164887 -4885255916155087854   \n",
       "1         1  1156461832353164887 -4885255916155087854   \n",
       "2         0  1156461832353164887 -4885255916155087854   \n",
       "3         0  1156461832353164887 -4885255916155087854   \n",
       "4         0  1156461832353164887 -4885255916155087854   \n",
       "\n",
       "          TimeOfOfferChange  \\\n",
       "0  2016-02-04T04:26:52.136Z   \n",
       "1  2016-02-04T04:26:52.136Z   \n",
       "2  2016-02-04T04:26:52.136Z   \n",
       "3  2016-02-04T04:26:52.136Z   \n",
       "4  2016-02-04T04:26:52.136Z   \n",
       "\n",
       "                                      ConditionNotes  IsFeaturedMerchant  \\\n",
       "0                                                NaN                   1   \n",
       "1  Ready To Ship - We are unable to ship to PO Bo...                   1   \n",
       "2                                                  .                   1   \n",
       "3                           Fast shipping in Canada.                   1   \n",
       "4                                                NaN                   0   \n",
       "\n",
       "   IsFulfilledByAmazon  ListingPrice ListingCurrency  SellerFeedbackRating  \\\n",
       "0                    1         94.00             CAD                     0   \n",
       "1                    0        107.35             CAD                    95   \n",
       "2                    0        100.46             CAD                    98   \n",
       "3                    0         99.24             CAD                    95   \n",
       "4                    0        109.48             CAD                    94   \n",
       "\n",
       "      ...                  SellerId  ShippingPrice  ShippingCurrency  \\\n",
       "0     ...       1207135739277432339           0.00               CAD   \n",
       "1     ...      -1789487307643024748           0.00               CAD   \n",
       "2     ...       5452082314297826053           6.99               CAD   \n",
       "3     ...      -2572277640783537773          11.67               CAD   \n",
       "4     ...      -8704029307873847986           8.99               CAD   \n",
       "\n",
       "  ShippingTime_minHours  ShippingTime_maxHours  ShippingTime_availtype  \\\n",
       "0                   672                   1008                     NOW   \n",
       "1                    48                     72                     NOW   \n",
       "2                    24                     48                     NOW   \n",
       "3                    24                     48                     NOW   \n",
       "4                    24                     48                     NOW   \n",
       "\n",
       "  ShipsDomestically  ShipsFromCountry ShipsFromState SubCondition  \n",
       "0                 1               NaN            NaN          new  \n",
       "1                 1                CA             ON          new  \n",
       "2                 1                CA             ON          new  \n",
       "3                 1                CA             ON          new  \n",
       "4                 1                CA             ON          new  \n",
       "\n",
       "[5 rows x 21 columns]"
      ]
     },
     "execution_count": 150,
     "metadata": {},
     "output_type": "execute_result"
    }
   ],
   "source": [
    "df.head(5) # first 5 rows"
   ]
  },
  {
   "cell_type": "code",
   "execution_count": 151,
   "metadata": {
    "collapsed": false
   },
   "outputs": [
    {
     "data": {
      "text/html": [
       "<div>\n",
       "<table border=\"1\" class=\"dataframe\">\n",
       "  <thead>\n",
       "    <tr style=\"text-align: right;\">\n",
       "      <th></th>\n",
       "      <th>IsWinner</th>\n",
       "      <th>MarketplaceId</th>\n",
       "      <th>ProductId</th>\n",
       "      <th>TimeOfOfferChange</th>\n",
       "      <th>ConditionNotes</th>\n",
       "      <th>IsFeaturedMerchant</th>\n",
       "      <th>IsFulfilledByAmazon</th>\n",
       "      <th>ListingPrice</th>\n",
       "      <th>ListingCurrency</th>\n",
       "      <th>SellerFeedbackRating</th>\n",
       "      <th>...</th>\n",
       "      <th>SellerId</th>\n",
       "      <th>ShippingPrice</th>\n",
       "      <th>ShippingCurrency</th>\n",
       "      <th>ShippingTime_minHours</th>\n",
       "      <th>ShippingTime_maxHours</th>\n",
       "      <th>ShippingTime_availtype</th>\n",
       "      <th>ShipsDomestically</th>\n",
       "      <th>ShipsFromCountry</th>\n",
       "      <th>ShipsFromState</th>\n",
       "      <th>SubCondition</th>\n",
       "    </tr>\n",
       "  </thead>\n",
       "  <tbody>\n",
       "    <tr>\n",
       "      <th>9995</th>\n",
       "      <td>0</td>\n",
       "      <td>1156461832353164887</td>\n",
       "      <td>8414836866689867420</td>\n",
       "      <td>2016-02-04T05:46:57.316Z</td>\n",
       "      <td>Dispatched from England by Priority Airmail, a...</td>\n",
       "      <td>1</td>\n",
       "      <td>0</td>\n",
       "      <td>92.72</td>\n",
       "      <td>CAD</td>\n",
       "      <td>91</td>\n",
       "      <td>...</td>\n",
       "      <td>-1888136325356517677</td>\n",
       "      <td>7.50</td>\n",
       "      <td>CAD</td>\n",
       "      <td>72</td>\n",
       "      <td>96</td>\n",
       "      <td>NOW</td>\n",
       "      <td>1</td>\n",
       "      <td>NaN</td>\n",
       "      <td>NaN</td>\n",
       "      <td>new</td>\n",
       "    </tr>\n",
       "    <tr>\n",
       "      <th>9996</th>\n",
       "      <td>0</td>\n",
       "      <td>1156461832353164887</td>\n",
       "      <td>8414836866689867420</td>\n",
       "      <td>2016-02-04T05:46:57.316Z</td>\n",
       "      <td>NaN</td>\n",
       "      <td>1</td>\n",
       "      <td>0</td>\n",
       "      <td>96.77</td>\n",
       "      <td>CAD</td>\n",
       "      <td>88</td>\n",
       "      <td>...</td>\n",
       "      <td>-6639690782514669126</td>\n",
       "      <td>11.84</td>\n",
       "      <td>CAD</td>\n",
       "      <td>96</td>\n",
       "      <td>120</td>\n",
       "      <td>NOW</td>\n",
       "      <td>1</td>\n",
       "      <td>NaN</td>\n",
       "      <td>NaN</td>\n",
       "      <td>new</td>\n",
       "    </tr>\n",
       "    <tr>\n",
       "      <th>9997</th>\n",
       "      <td>0</td>\n",
       "      <td>1156461832353164887</td>\n",
       "      <td>8414836866689867420</td>\n",
       "      <td>2016-02-04T05:46:57.316Z</td>\n",
       "      <td>NaN</td>\n",
       "      <td>1</td>\n",
       "      <td>0</td>\n",
       "      <td>110.68</td>\n",
       "      <td>CAD</td>\n",
       "      <td>96</td>\n",
       "      <td>...</td>\n",
       "      <td>9012427554787096099</td>\n",
       "      <td>6.00</td>\n",
       "      <td>CAD</td>\n",
       "      <td>24</td>\n",
       "      <td>48</td>\n",
       "      <td>NOW</td>\n",
       "      <td>1</td>\n",
       "      <td>NaN</td>\n",
       "      <td>NaN</td>\n",
       "      <td>new</td>\n",
       "    </tr>\n",
       "    <tr>\n",
       "      <th>9998</th>\n",
       "      <td>0</td>\n",
       "      <td>1156461832353164887</td>\n",
       "      <td>8414836866689867420</td>\n",
       "      <td>2016-02-04T05:46:57.316Z</td>\n",
       "      <td>NaN</td>\n",
       "      <td>1</td>\n",
       "      <td>0</td>\n",
       "      <td>105.73</td>\n",
       "      <td>CAD</td>\n",
       "      <td>0</td>\n",
       "      <td>...</td>\n",
       "      <td>3846853762521352076</td>\n",
       "      <td>15.26</td>\n",
       "      <td>CAD</td>\n",
       "      <td>24</td>\n",
       "      <td>48</td>\n",
       "      <td>NOW</td>\n",
       "      <td>1</td>\n",
       "      <td>NaN</td>\n",
       "      <td>NaN</td>\n",
       "      <td>new</td>\n",
       "    </tr>\n",
       "    <tr>\n",
       "      <th>9999</th>\n",
       "      <td>0</td>\n",
       "      <td>1156461832353164887</td>\n",
       "      <td>8414836866689867420</td>\n",
       "      <td>2016-02-04T05:46:57.316Z</td>\n",
       "      <td>Duty free - Ships from USA</td>\n",
       "      <td>1</td>\n",
       "      <td>0</td>\n",
       "      <td>134.25</td>\n",
       "      <td>CAD</td>\n",
       "      <td>98</td>\n",
       "      <td>...</td>\n",
       "      <td>1163115142515862290</td>\n",
       "      <td>0.00</td>\n",
       "      <td>CAD</td>\n",
       "      <td>24</td>\n",
       "      <td>48</td>\n",
       "      <td>NOW</td>\n",
       "      <td>1</td>\n",
       "      <td>US</td>\n",
       "      <td>CA</td>\n",
       "      <td>new</td>\n",
       "    </tr>\n",
       "  </tbody>\n",
       "</table>\n",
       "<p>5 rows × 21 columns</p>\n",
       "</div>"
      ],
      "text/plain": [
       "      IsWinner        MarketplaceId            ProductId  \\\n",
       "9995         0  1156461832353164887  8414836866689867420   \n",
       "9996         0  1156461832353164887  8414836866689867420   \n",
       "9997         0  1156461832353164887  8414836866689867420   \n",
       "9998         0  1156461832353164887  8414836866689867420   \n",
       "9999         0  1156461832353164887  8414836866689867420   \n",
       "\n",
       "             TimeOfOfferChange  \\\n",
       "9995  2016-02-04T05:46:57.316Z   \n",
       "9996  2016-02-04T05:46:57.316Z   \n",
       "9997  2016-02-04T05:46:57.316Z   \n",
       "9998  2016-02-04T05:46:57.316Z   \n",
       "9999  2016-02-04T05:46:57.316Z   \n",
       "\n",
       "                                         ConditionNotes  IsFeaturedMerchant  \\\n",
       "9995  Dispatched from England by Priority Airmail, a...                   1   \n",
       "9996                                                NaN                   1   \n",
       "9997                                                NaN                   1   \n",
       "9998                                                NaN                   1   \n",
       "9999                         Duty free - Ships from USA                   1   \n",
       "\n",
       "      IsFulfilledByAmazon  ListingPrice ListingCurrency  SellerFeedbackRating  \\\n",
       "9995                    0         92.72             CAD                    91   \n",
       "9996                    0         96.77             CAD                    88   \n",
       "9997                    0        110.68             CAD                    96   \n",
       "9998                    0        105.73             CAD                     0   \n",
       "9999                    0        134.25             CAD                    98   \n",
       "\n",
       "         ...                  SellerId  ShippingPrice  ShippingCurrency  \\\n",
       "9995     ...      -1888136325356517677           7.50               CAD   \n",
       "9996     ...      -6639690782514669126          11.84               CAD   \n",
       "9997     ...       9012427554787096099           6.00               CAD   \n",
       "9998     ...       3846853762521352076          15.26               CAD   \n",
       "9999     ...       1163115142515862290           0.00               CAD   \n",
       "\n",
       "     ShippingTime_minHours  ShippingTime_maxHours  ShippingTime_availtype  \\\n",
       "9995                    72                     96                     NOW   \n",
       "9996                    96                    120                     NOW   \n",
       "9997                    24                     48                     NOW   \n",
       "9998                    24                     48                     NOW   \n",
       "9999                    24                     48                     NOW   \n",
       "\n",
       "     ShipsDomestically  ShipsFromCountry ShipsFromState SubCondition  \n",
       "9995                 1               NaN            NaN          new  \n",
       "9996                 1               NaN            NaN          new  \n",
       "9997                 1               NaN            NaN          new  \n",
       "9998                 1               NaN            NaN          new  \n",
       "9999                 1                US             CA          new  \n",
       "\n",
       "[5 rows x 21 columns]"
      ]
     },
     "execution_count": 151,
     "metadata": {},
     "output_type": "execute_result"
    }
   ],
   "source": [
    "df.tail(5) # last 5 rows"
   ]
  },
  {
   "cell_type": "markdown",
   "metadata": {},
   "source": [
    "## Prepare a table with descriptive statistics for all the continuous features."
   ]
  },
  {
   "cell_type": "code",
   "execution_count": 152,
   "metadata": {
    "collapsed": false
   },
   "outputs": [
    {
     "data": {
      "text/plain": [
       "IsWinner                    int64\n",
       "MarketplaceId               int64\n",
       "ProductId                   int64\n",
       "TimeOfOfferChange          object\n",
       "ConditionNotes             object\n",
       "IsFeaturedMerchant          int64\n",
       "IsFulfilledByAmazon         int64\n",
       "ListingPrice              float64\n",
       "ListingCurrency            object\n",
       "SellerFeedbackRating        int64\n",
       "SellerFeedbackCount         int64\n",
       "SellerId                    int64\n",
       "ShippingPrice             float64\n",
       "ShippingCurrency           object\n",
       "ShippingTime_minHours       int64\n",
       "ShippingTime_maxHours       int64\n",
       "ShippingTime_availtype     object\n",
       "ShipsDomestically           int64\n",
       "ShipsFromCountry           object\n",
       "ShipsFromState             object\n",
       "SubCondition               object\n",
       "dtype: object"
      ]
     },
     "execution_count": 152,
     "metadata": {},
     "output_type": "execute_result"
    }
   ],
   "source": [
    "# Show the data types in each column\n",
    "# The pandas type 'object' stands for Python strings\n",
    "# Columns mixing numbers and characters are automatically converted to type 'object'\n",
    "df.dtypes"
   ]
  },
  {
   "cell_type": "markdown",
   "metadata": {},
   "source": [
    "Classifying data types as either continous or categorical (as appropriate) based on an inspection of the type of data contained."
   ]
  },
  {
   "cell_type": "code",
   "execution_count": 153,
   "metadata": {
    "collapsed": false
   },
   "outputs": [],
   "source": [
    "# Select columns containing categorical data\n",
    "categorical_columns = df[['IsWinner','IsFeaturedMerchant','IsFulfilledByAmazon','ListingCurrency','ShippingCurrency', 'ShippingTime_availtype', 'ShipsDomestically', 'ShipsFromCountry', 'ShipsFromState', 'SubCondition']].columns\n",
    "\n",
    "# Convert data type to category for these columns\n",
    "for column in categorical_columns:\n",
    "    df[column] = df[column].astype('category')"
   ]
  },
  {
   "cell_type": "code",
   "execution_count": 154,
   "metadata": {
    "collapsed": false
   },
   "outputs": [
    {
     "data": {
      "text/plain": [
       "IsWinner                  category\n",
       "MarketplaceId                int64\n",
       "ProductId                    int64\n",
       "TimeOfOfferChange           object\n",
       "ConditionNotes              object\n",
       "IsFeaturedMerchant        category\n",
       "IsFulfilledByAmazon       category\n",
       "ListingPrice               float64\n",
       "ListingCurrency           category\n",
       "SellerFeedbackRating         int64\n",
       "SellerFeedbackCount          int64\n",
       "SellerId                     int64\n",
       "ShippingPrice              float64\n",
       "ShippingCurrency          category\n",
       "ShippingTime_minHours        int64\n",
       "ShippingTime_maxHours        int64\n",
       "ShippingTime_availtype    category\n",
       "ShipsDomestically         category\n",
       "ShipsFromCountry          category\n",
       "ShipsFromState            category\n",
       "SubCondition              category\n",
       "dtype: object"
      ]
     },
     "execution_count": 154,
     "metadata": {},
     "output_type": "execute_result"
    }
   ],
   "source": [
    "# data types after the conversion\n",
    "df.dtypes"
   ]
  },
  {
   "cell_type": "code",
   "execution_count": 155,
   "metadata": {
    "collapsed": false
   },
   "outputs": [
    {
     "data": {
      "text/html": [
       "<div>\n",
       "<table border=\"1\" class=\"dataframe\">\n",
       "  <thead>\n",
       "    <tr style=\"text-align: right;\">\n",
       "      <th></th>\n",
       "      <th>MarketplaceId</th>\n",
       "      <th>ProductId</th>\n",
       "      <th>ListingPrice</th>\n",
       "      <th>SellerFeedbackRating</th>\n",
       "      <th>SellerFeedbackCount</th>\n",
       "      <th>SellerId</th>\n",
       "      <th>ShippingPrice</th>\n",
       "      <th>ShippingTime_minHours</th>\n",
       "      <th>ShippingTime_maxHours</th>\n",
       "    </tr>\n",
       "  </thead>\n",
       "  <tbody>\n",
       "    <tr>\n",
       "      <th>count</th>\n",
       "      <td>1.000000e+04</td>\n",
       "      <td>1.000000e+04</td>\n",
       "      <td>10000.000000</td>\n",
       "      <td>10000.000000</td>\n",
       "      <td>10000.000000</td>\n",
       "      <td>1.000000e+04</td>\n",
       "      <td>10000.000000</td>\n",
       "      <td>10000.000000</td>\n",
       "      <td>10000.000000</td>\n",
       "    </tr>\n",
       "    <tr>\n",
       "      <th>mean</th>\n",
       "      <td>1.156462e+18</td>\n",
       "      <td>5.534192e+16</td>\n",
       "      <td>215.881699</td>\n",
       "      <td>89.039700</td>\n",
       "      <td>6915.794700</td>\n",
       "      <td>9.780680e+17</td>\n",
       "      <td>12.396776</td>\n",
       "      <td>57.136800</td>\n",
       "      <td>88.663200</td>\n",
       "    </tr>\n",
       "    <tr>\n",
       "      <th>std</th>\n",
       "      <td>2.355318e+04</td>\n",
       "      <td>5.308389e+18</td>\n",
       "      <td>255.581702</td>\n",
       "      <td>21.470301</td>\n",
       "      <td>10970.179276</td>\n",
       "      <td>4.952648e+18</td>\n",
       "      <td>26.361234</td>\n",
       "      <td>82.450908</td>\n",
       "      <td>119.827413</td>\n",
       "    </tr>\n",
       "    <tr>\n",
       "      <th>min</th>\n",
       "      <td>1.156462e+18</td>\n",
       "      <td>-9.172604e+18</td>\n",
       "      <td>3.240000</td>\n",
       "      <td>0.000000</td>\n",
       "      <td>0.000000</td>\n",
       "      <td>-9.136118e+18</td>\n",
       "      <td>0.000000</td>\n",
       "      <td>0.000000</td>\n",
       "      <td>0.000000</td>\n",
       "    </tr>\n",
       "    <tr>\n",
       "      <th>25%</th>\n",
       "      <td>1.156462e+18</td>\n",
       "      <td>-4.356483e+18</td>\n",
       "      <td>63.330000</td>\n",
       "      <td>91.000000</td>\n",
       "      <td>338.000000</td>\n",
       "      <td>-2.572278e+18</td>\n",
       "      <td>0.000000</td>\n",
       "      <td>24.000000</td>\n",
       "      <td>48.000000</td>\n",
       "    </tr>\n",
       "    <tr>\n",
       "      <th>50%</th>\n",
       "      <td>1.156462e+18</td>\n",
       "      <td>2.477570e+16</td>\n",
       "      <td>126.020000</td>\n",
       "      <td>95.000000</td>\n",
       "      <td>3293.000000</td>\n",
       "      <td>1.163115e+18</td>\n",
       "      <td>7.500000</td>\n",
       "      <td>24.000000</td>\n",
       "      <td>48.000000</td>\n",
       "    </tr>\n",
       "    <tr>\n",
       "      <th>75%</th>\n",
       "      <td>1.156462e+18</td>\n",
       "      <td>5.056101e+18</td>\n",
       "      <td>257.892500</td>\n",
       "      <td>96.000000</td>\n",
       "      <td>8452.000000</td>\n",
       "      <td>5.477945e+18</td>\n",
       "      <td>13.640000</td>\n",
       "      <td>96.000000</td>\n",
       "      <td>120.000000</td>\n",
       "    </tr>\n",
       "    <tr>\n",
       "      <th>max</th>\n",
       "      <td>1.156462e+18</td>\n",
       "      <td>9.207147e+18</td>\n",
       "      <td>3194.320000</td>\n",
       "      <td>100.000000</td>\n",
       "      <td>41420.000000</td>\n",
       "      <td>9.174048e+18</td>\n",
       "      <td>705.270000</td>\n",
       "      <td>672.000000</td>\n",
       "      <td>1008.000000</td>\n",
       "    </tr>\n",
       "  </tbody>\n",
       "</table>\n",
       "</div>"
      ],
      "text/plain": [
       "       MarketplaceId     ProductId  ListingPrice  SellerFeedbackRating  \\\n",
       "count   1.000000e+04  1.000000e+04  10000.000000          10000.000000   \n",
       "mean    1.156462e+18  5.534192e+16    215.881699             89.039700   \n",
       "std     2.355318e+04  5.308389e+18    255.581702             21.470301   \n",
       "min     1.156462e+18 -9.172604e+18      3.240000              0.000000   \n",
       "25%     1.156462e+18 -4.356483e+18     63.330000             91.000000   \n",
       "50%     1.156462e+18  2.477570e+16    126.020000             95.000000   \n",
       "75%     1.156462e+18  5.056101e+18    257.892500             96.000000   \n",
       "max     1.156462e+18  9.207147e+18   3194.320000            100.000000   \n",
       "\n",
       "       SellerFeedbackCount      SellerId  ShippingPrice  \\\n",
       "count         10000.000000  1.000000e+04   10000.000000   \n",
       "mean           6915.794700  9.780680e+17      12.396776   \n",
       "std           10970.179276  4.952648e+18      26.361234   \n",
       "min               0.000000 -9.136118e+18       0.000000   \n",
       "25%             338.000000 -2.572278e+18       0.000000   \n",
       "50%            3293.000000  1.163115e+18       7.500000   \n",
       "75%            8452.000000  5.477945e+18      13.640000   \n",
       "max           41420.000000  9.174048e+18     705.270000   \n",
       "\n",
       "       ShippingTime_minHours  ShippingTime_maxHours  \n",
       "count           10000.000000           10000.000000  \n",
       "mean               57.136800              88.663200  \n",
       "std                82.450908             119.827413  \n",
       "min                 0.000000               0.000000  \n",
       "25%                24.000000              48.000000  \n",
       "50%                24.000000              48.000000  \n",
       "75%                96.000000             120.000000  \n",
       "max               672.000000            1008.000000  "
      ]
     },
     "execution_count": 155,
     "metadata": {},
     "output_type": "execute_result"
    }
   ],
   "source": [
    "# Descriptive stats for continuous features\n",
    "df.describe()"
   ]
  },
  {
   "cell_type": "code",
   "execution_count": 156,
   "metadata": {
    "collapsed": false
   },
   "outputs": [
    {
     "data": {
      "text/html": [
       "<div>\n",
       "<table border=\"1\" class=\"dataframe\">\n",
       "  <thead>\n",
       "    <tr style=\"text-align: right;\">\n",
       "      <th></th>\n",
       "      <th>count</th>\n",
       "      <th>mean</th>\n",
       "      <th>std</th>\n",
       "      <th>min</th>\n",
       "      <th>25%</th>\n",
       "      <th>50%</th>\n",
       "      <th>75%</th>\n",
       "      <th>max</th>\n",
       "    </tr>\n",
       "  </thead>\n",
       "  <tbody>\n",
       "    <tr>\n",
       "      <th>MarketplaceId</th>\n",
       "      <td>10000.0</td>\n",
       "      <td>1.156462e+18</td>\n",
       "      <td>2.355318e+04</td>\n",
       "      <td>1.156462e+18</td>\n",
       "      <td>1.156462e+18</td>\n",
       "      <td>1.156462e+18</td>\n",
       "      <td>1.156462e+18</td>\n",
       "      <td>1.156462e+18</td>\n",
       "    </tr>\n",
       "    <tr>\n",
       "      <th>ProductId</th>\n",
       "      <td>10000.0</td>\n",
       "      <td>5.534192e+16</td>\n",
       "      <td>5.308389e+18</td>\n",
       "      <td>-9.172604e+18</td>\n",
       "      <td>-4.356483e+18</td>\n",
       "      <td>2.477570e+16</td>\n",
       "      <td>5.056101e+18</td>\n",
       "      <td>9.207147e+18</td>\n",
       "    </tr>\n",
       "    <tr>\n",
       "      <th>ListingPrice</th>\n",
       "      <td>10000.0</td>\n",
       "      <td>2.158817e+02</td>\n",
       "      <td>2.555817e+02</td>\n",
       "      <td>3.240000e+00</td>\n",
       "      <td>6.333000e+01</td>\n",
       "      <td>1.260200e+02</td>\n",
       "      <td>2.578925e+02</td>\n",
       "      <td>3.194320e+03</td>\n",
       "    </tr>\n",
       "    <tr>\n",
       "      <th>SellerFeedbackRating</th>\n",
       "      <td>10000.0</td>\n",
       "      <td>8.903970e+01</td>\n",
       "      <td>2.147030e+01</td>\n",
       "      <td>0.000000e+00</td>\n",
       "      <td>9.100000e+01</td>\n",
       "      <td>9.500000e+01</td>\n",
       "      <td>9.600000e+01</td>\n",
       "      <td>1.000000e+02</td>\n",
       "    </tr>\n",
       "    <tr>\n",
       "      <th>SellerFeedbackCount</th>\n",
       "      <td>10000.0</td>\n",
       "      <td>6.915795e+03</td>\n",
       "      <td>1.097018e+04</td>\n",
       "      <td>0.000000e+00</td>\n",
       "      <td>3.380000e+02</td>\n",
       "      <td>3.293000e+03</td>\n",
       "      <td>8.452000e+03</td>\n",
       "      <td>4.142000e+04</td>\n",
       "    </tr>\n",
       "    <tr>\n",
       "      <th>SellerId</th>\n",
       "      <td>10000.0</td>\n",
       "      <td>9.780680e+17</td>\n",
       "      <td>4.952648e+18</td>\n",
       "      <td>-9.136118e+18</td>\n",
       "      <td>-2.572278e+18</td>\n",
       "      <td>1.163115e+18</td>\n",
       "      <td>5.477945e+18</td>\n",
       "      <td>9.174048e+18</td>\n",
       "    </tr>\n",
       "    <tr>\n",
       "      <th>ShippingPrice</th>\n",
       "      <td>10000.0</td>\n",
       "      <td>1.239678e+01</td>\n",
       "      <td>2.636123e+01</td>\n",
       "      <td>0.000000e+00</td>\n",
       "      <td>0.000000e+00</td>\n",
       "      <td>7.500000e+00</td>\n",
       "      <td>1.364000e+01</td>\n",
       "      <td>7.052700e+02</td>\n",
       "    </tr>\n",
       "    <tr>\n",
       "      <th>ShippingTime_minHours</th>\n",
       "      <td>10000.0</td>\n",
       "      <td>5.713680e+01</td>\n",
       "      <td>8.245091e+01</td>\n",
       "      <td>0.000000e+00</td>\n",
       "      <td>2.400000e+01</td>\n",
       "      <td>2.400000e+01</td>\n",
       "      <td>9.600000e+01</td>\n",
       "      <td>6.720000e+02</td>\n",
       "    </tr>\n",
       "    <tr>\n",
       "      <th>ShippingTime_maxHours</th>\n",
       "      <td>10000.0</td>\n",
       "      <td>8.866320e+01</td>\n",
       "      <td>1.198274e+02</td>\n",
       "      <td>0.000000e+00</td>\n",
       "      <td>4.800000e+01</td>\n",
       "      <td>4.800000e+01</td>\n",
       "      <td>1.200000e+02</td>\n",
       "      <td>1.008000e+03</td>\n",
       "    </tr>\n",
       "  </tbody>\n",
       "</table>\n",
       "</div>"
      ],
      "text/plain": [
       "                         count          mean           std           min  \\\n",
       "MarketplaceId          10000.0  1.156462e+18  2.355318e+04  1.156462e+18   \n",
       "ProductId              10000.0  5.534192e+16  5.308389e+18 -9.172604e+18   \n",
       "ListingPrice           10000.0  2.158817e+02  2.555817e+02  3.240000e+00   \n",
       "SellerFeedbackRating   10000.0  8.903970e+01  2.147030e+01  0.000000e+00   \n",
       "SellerFeedbackCount    10000.0  6.915795e+03  1.097018e+04  0.000000e+00   \n",
       "SellerId               10000.0  9.780680e+17  4.952648e+18 -9.136118e+18   \n",
       "ShippingPrice          10000.0  1.239678e+01  2.636123e+01  0.000000e+00   \n",
       "ShippingTime_minHours  10000.0  5.713680e+01  8.245091e+01  0.000000e+00   \n",
       "ShippingTime_maxHours  10000.0  8.866320e+01  1.198274e+02  0.000000e+00   \n",
       "\n",
       "                                25%           50%           75%           max  \n",
       "MarketplaceId          1.156462e+18  1.156462e+18  1.156462e+18  1.156462e+18  \n",
       "ProductId             -4.356483e+18  2.477570e+16  5.056101e+18  9.207147e+18  \n",
       "ListingPrice           6.333000e+01  1.260200e+02  2.578925e+02  3.194320e+03  \n",
       "SellerFeedbackRating   9.100000e+01  9.500000e+01  9.600000e+01  1.000000e+02  \n",
       "SellerFeedbackCount    3.380000e+02  3.293000e+03  8.452000e+03  4.142000e+04  \n",
       "SellerId              -2.572278e+18  1.163115e+18  5.477945e+18  9.174048e+18  \n",
       "ShippingPrice          0.000000e+00  7.500000e+00  1.364000e+01  7.052700e+02  \n",
       "ShippingTime_minHours  2.400000e+01  2.400000e+01  9.600000e+01  6.720000e+02  \n",
       "ShippingTime_maxHours  4.800000e+01  4.800000e+01  1.200000e+02  1.008000e+03  "
      ]
     },
     "execution_count": 156,
     "metadata": {},
     "output_type": "execute_result"
    }
   ],
   "source": [
    "# Descriptive stats for continuous features - transposed table\n",
    "# One feature per row, stats in the columns\n",
    "df.describe().T"
   ]
  },
  {
   "cell_type": "markdown",
   "metadata": {},
   "source": [
    "## Prepare a table with descriptive statistics for all the categorical features."
   ]
  },
  {
   "cell_type": "code",
   "execution_count": 157,
   "metadata": {
    "collapsed": false
   },
   "outputs": [
    {
     "data": {
      "text/html": [
       "<div>\n",
       "<table border=\"1\" class=\"dataframe\">\n",
       "  <thead>\n",
       "    <tr style=\"text-align: right;\">\n",
       "      <th></th>\n",
       "      <th>count</th>\n",
       "      <th>unique</th>\n",
       "      <th>top</th>\n",
       "      <th>freq</th>\n",
       "    </tr>\n",
       "  </thead>\n",
       "  <tbody>\n",
       "    <tr>\n",
       "      <th>IsWinner</th>\n",
       "      <td>10000</td>\n",
       "      <td>2</td>\n",
       "      <td>0</td>\n",
       "      <td>9451</td>\n",
       "    </tr>\n",
       "    <tr>\n",
       "      <th>IsFeaturedMerchant</th>\n",
       "      <td>10000</td>\n",
       "      <td>2</td>\n",
       "      <td>1</td>\n",
       "      <td>8166</td>\n",
       "    </tr>\n",
       "    <tr>\n",
       "      <th>IsFulfilledByAmazon</th>\n",
       "      <td>10000</td>\n",
       "      <td>2</td>\n",
       "      <td>0</td>\n",
       "      <td>9632</td>\n",
       "    </tr>\n",
       "    <tr>\n",
       "      <th>ListingCurrency</th>\n",
       "      <td>10000</td>\n",
       "      <td>1</td>\n",
       "      <td>CAD</td>\n",
       "      <td>10000</td>\n",
       "    </tr>\n",
       "    <tr>\n",
       "      <th>ShippingCurrency</th>\n",
       "      <td>10000</td>\n",
       "      <td>1</td>\n",
       "      <td>CAD</td>\n",
       "      <td>10000</td>\n",
       "    </tr>\n",
       "    <tr>\n",
       "      <th>ShippingTime_availtype</th>\n",
       "      <td>10000</td>\n",
       "      <td>1</td>\n",
       "      <td>NOW</td>\n",
       "      <td>10000</td>\n",
       "    </tr>\n",
       "    <tr>\n",
       "      <th>ShipsDomestically</th>\n",
       "      <td>10000</td>\n",
       "      <td>1</td>\n",
       "      <td>1</td>\n",
       "      <td>10000</td>\n",
       "    </tr>\n",
       "    <tr>\n",
       "      <th>ShipsFromCountry</th>\n",
       "      <td>6273</td>\n",
       "      <td>13</td>\n",
       "      <td>CA</td>\n",
       "      <td>3668</td>\n",
       "    </tr>\n",
       "    <tr>\n",
       "      <th>ShipsFromState</th>\n",
       "      <td>5880</td>\n",
       "      <td>24</td>\n",
       "      <td>ON</td>\n",
       "      <td>2220</td>\n",
       "    </tr>\n",
       "    <tr>\n",
       "      <th>SubCondition</th>\n",
       "      <td>10000</td>\n",
       "      <td>1</td>\n",
       "      <td>new</td>\n",
       "      <td>10000</td>\n",
       "    </tr>\n",
       "  </tbody>\n",
       "</table>\n",
       "</div>"
      ],
      "text/plain": [
       "                        count unique  top   freq\n",
       "IsWinner                10000      2    0   9451\n",
       "IsFeaturedMerchant      10000      2    1   8166\n",
       "IsFulfilledByAmazon     10000      2    0   9632\n",
       "ListingCurrency         10000      1  CAD  10000\n",
       "ShippingCurrency        10000      1  CAD  10000\n",
       "ShippingTime_availtype  10000      1  NOW  10000\n",
       "ShipsDomestically       10000      1    1  10000\n",
       "ShipsFromCountry         6273     13   CA   3668\n",
       "ShipsFromState           5880     24   ON   2220\n",
       "SubCondition            10000      1  new  10000"
      ]
     },
     "execution_count": 157,
     "metadata": {},
     "output_type": "execute_result"
    }
   ],
   "source": [
    "# Descriptive stats for categorical features\n",
    "df.select_dtypes(['category']).describe().T"
   ]
  },
  {
   "cell_type": "markdown",
   "metadata": {},
   "source": [
    "## Drop duplicate rows and columns, if any."
   ]
  },
  {
   "cell_type": "code",
   "execution_count": 158,
   "metadata": {
    "collapsed": false
   },
   "outputs": [
    {
     "data": {
      "text/plain": [
       "114"
      ]
     },
     "execution_count": 158,
     "metadata": {},
     "output_type": "execute_result"
    }
   ],
   "source": [
    "# duplicated(): returns a boolean - outputs 'true' is an entire row is a duplicate of a row above it.\n",
    "# The 'true' instances are then counted using sum()\n",
    "df.duplicated().sum()"
   ]
  },
  {
   "cell_type": "code",
   "execution_count": 159,
   "metadata": {
    "collapsed": false
   },
   "outputs": [],
   "source": [
    "# using drop_duplicates(), default is keep ='first' as parameter.\n",
    "df = df.drop_duplicates()"
   ]
  },
  {
   "cell_type": "code",
   "execution_count": 160,
   "metadata": {
    "collapsed": false
   },
   "outputs": [
    {
     "data": {
      "text/plain": [
       "0"
      ]
     },
     "execution_count": 160,
     "metadata": {},
     "output_type": "execute_result"
    }
   ],
   "source": [
    "df.duplicated().sum() # check again for duplicates"
   ]
  },
  {
   "cell_type": "code",
   "execution_count": 161,
   "metadata": {
    "collapsed": false
   },
   "outputs": [
    {
     "data": {
      "text/plain": [
       "(9886, 21)"
      ]
     },
     "execution_count": 161,
     "metadata": {},
     "output_type": "execute_result"
    }
   ],
   "source": [
    "# After duplicated rows removed\n",
    "df.shape"
   ]
  },
  {
   "cell_type": "markdown",
   "metadata": {},
   "source": [
    "On inspection, there does not appear to be any columns that are duplicates of each other."
   ]
  },
  {
   "cell_type": "markdown",
   "metadata": {},
   "source": [
    "## Drop constant columns, if any."
   ]
  },
  {
   "cell_type": "code",
   "execution_count": 162,
   "metadata": {
    "collapsed": false
   },
   "outputs": [
    {
     "name": "stdout",
     "output_type": "stream",
     "text": [
      "Feature, UniqueValues\n",
      "IsWinner,2\n",
      "MarketplaceId,1\n",
      "ProductId,307\n",
      "TimeOfOfferChange,548\n",
      "ConditionNotes,436\n",
      "IsFeaturedMerchant,2\n",
      "IsFulfilledByAmazon,2\n",
      "ListingPrice,4976\n",
      "ListingCurrency,1\n",
      "SellerFeedbackRating,25\n",
      "SellerFeedbackCount,123\n",
      "SellerId,187\n",
      "ShippingPrice,1104\n",
      "ShippingCurrency,1\n",
      "ShippingTime_minHours,12\n",
      "ShippingTime_maxHours,11\n",
      "ShippingTime_availtype,1\n",
      "ShipsDomestically,1\n",
      "ShipsFromCountry,14\n",
      "ShipsFromState,25\n",
      "SubCondition,1\n"
     ]
    }
   ],
   "source": [
    "# Print all the coloumn headers and the number of unique values in each coloumn\n",
    "# Coloumns with unique value of 1 has a constant value \n",
    "print(\"Feature, UniqueValues\") \n",
    "for column in df:\n",
    "    print(column + \",\" + str(len(df[column].unique())))"
   ]
  },
  {
   "cell_type": "code",
   "execution_count": 163,
   "metadata": {
    "collapsed": true
   },
   "outputs": [],
   "source": [
    "# Drop columns with UniqueValues = 1\n",
    "\n",
    "# Feature, UniqueValues\n",
    "# MarketplaceId,1\n",
    "# ListingCurrency,1\n",
    "# ShippingCurrency,1\n",
    "# ShippingTime_availtype,1\n",
    "# ShipsDomestically,1\n",
    "# SubCondition,1\n",
    "\n",
    "# The '1' below indicates column:\n",
    "df = df.drop('MarketplaceId', 1)\n",
    "df = df.drop('ListingCurrency', 1)\n",
    "df = df.drop('ShippingCurrency', 1)\n",
    "df = df.drop('ShippingTime_availtype', 1)\n",
    "df = df.drop('ShipsDomestically', 1)\n",
    "df = df.drop('SubCondition', 1)"
   ]
  },
  {
   "cell_type": "code",
   "execution_count": 164,
   "metadata": {
    "collapsed": false
   },
   "outputs": [
    {
     "data": {
      "text/plain": [
       "(9886, 15)"
      ]
     },
     "execution_count": 164,
     "metadata": {},
     "output_type": "execute_result"
    }
   ],
   "source": [
    "df.shape # after 6 columns of constant columns removed"
   ]
  },
  {
   "cell_type": "markdown",
   "metadata": {},
   "source": [
    "## Prepare a table with descriptive statistics for all the continuous features."
   ]
  },
  {
   "cell_type": "code",
   "execution_count": 165,
   "metadata": {
    "collapsed": false
   },
   "outputs": [
    {
     "data": {
      "text/plain": [
       "Index(['ProductId', 'ListingPrice', 'SellerFeedbackRating',\n",
       "       'SellerFeedbackCount', 'SellerId', 'ShippingPrice',\n",
       "       'ShippingTime_minHours', 'ShippingTime_maxHours'],\n",
       "      dtype='object')"
      ]
     },
     "execution_count": 165,
     "metadata": {},
     "output_type": "execute_result"
    }
   ],
   "source": [
    "#Look at continous columns - all of which are of numeric data type in this data frame\n",
    "continuous_columns = df.select_dtypes(['int64', 'float64']).columns\n",
    "continuous_columns"
   ]
  },
  {
   "cell_type": "code",
   "execution_count": 166,
   "metadata": {
    "collapsed": false
   },
   "outputs": [
    {
     "data": {
      "text/html": [
       "<div>\n",
       "<table border=\"1\" class=\"dataframe\">\n",
       "  <thead>\n",
       "    <tr style=\"text-align: right;\">\n",
       "      <th></th>\n",
       "      <th>count</th>\n",
       "      <th>mean</th>\n",
       "      <th>std</th>\n",
       "      <th>min</th>\n",
       "      <th>25%</th>\n",
       "      <th>50%</th>\n",
       "      <th>75%</th>\n",
       "      <th>max</th>\n",
       "    </tr>\n",
       "  </thead>\n",
       "  <tbody>\n",
       "    <tr>\n",
       "      <th>ProductId</th>\n",
       "      <td>9886.0</td>\n",
       "      <td>6.104485e+16</td>\n",
       "      <td>5.315584e+18</td>\n",
       "      <td>-9.172604e+18</td>\n",
       "      <td>-4.356483e+18</td>\n",
       "      <td>2.477570e+16</td>\n",
       "      <td>5.056101e+18</td>\n",
       "      <td>9.207147e+18</td>\n",
       "    </tr>\n",
       "    <tr>\n",
       "      <th>ListingPrice</th>\n",
       "      <td>9886.0</td>\n",
       "      <td>2.164802e+02</td>\n",
       "      <td>2.565794e+02</td>\n",
       "      <td>3.240000e+00</td>\n",
       "      <td>6.363000e+01</td>\n",
       "      <td>1.259900e+02</td>\n",
       "      <td>2.578625e+02</td>\n",
       "      <td>3.194320e+03</td>\n",
       "    </tr>\n",
       "    <tr>\n",
       "      <th>SellerFeedbackRating</th>\n",
       "      <td>9886.0</td>\n",
       "      <td>8.897593e+01</td>\n",
       "      <td>2.155962e+01</td>\n",
       "      <td>0.000000e+00</td>\n",
       "      <td>9.100000e+01</td>\n",
       "      <td>9.500000e+01</td>\n",
       "      <td>9.600000e+01</td>\n",
       "      <td>1.000000e+02</td>\n",
       "    </tr>\n",
       "    <tr>\n",
       "      <th>SellerFeedbackCount</th>\n",
       "      <td>9886.0</td>\n",
       "      <td>6.910402e+03</td>\n",
       "      <td>1.091824e+04</td>\n",
       "      <td>0.000000e+00</td>\n",
       "      <td>3.380000e+02</td>\n",
       "      <td>3.293000e+03</td>\n",
       "      <td>8.452000e+03</td>\n",
       "      <td>4.142000e+04</td>\n",
       "    </tr>\n",
       "    <tr>\n",
       "      <th>SellerId</th>\n",
       "      <td>9886.0</td>\n",
       "      <td>9.641003e+17</td>\n",
       "      <td>4.919222e+18</td>\n",
       "      <td>-9.136118e+18</td>\n",
       "      <td>-2.572278e+18</td>\n",
       "      <td>1.163115e+18</td>\n",
       "      <td>5.477945e+18</td>\n",
       "      <td>9.174048e+18</td>\n",
       "    </tr>\n",
       "    <tr>\n",
       "      <th>ShippingPrice</th>\n",
       "      <td>9886.0</td>\n",
       "      <td>1.243470e+01</td>\n",
       "      <td>2.647657e+01</td>\n",
       "      <td>0.000000e+00</td>\n",
       "      <td>0.000000e+00</td>\n",
       "      <td>7.500000e+00</td>\n",
       "      <td>1.368000e+01</td>\n",
       "      <td>7.052700e+02</td>\n",
       "    </tr>\n",
       "    <tr>\n",
       "      <th>ShippingTime_minHours</th>\n",
       "      <td>9886.0</td>\n",
       "      <td>5.726644e+01</td>\n",
       "      <td>8.280107e+01</td>\n",
       "      <td>0.000000e+00</td>\n",
       "      <td>2.400000e+01</td>\n",
       "      <td>2.400000e+01</td>\n",
       "      <td>9.600000e+01</td>\n",
       "      <td>6.720000e+02</td>\n",
       "    </tr>\n",
       "    <tr>\n",
       "      <th>ShippingTime_maxHours</th>\n",
       "      <td>9886.0</td>\n",
       "      <td>8.887477e+01</td>\n",
       "      <td>1.203972e+02</td>\n",
       "      <td>0.000000e+00</td>\n",
       "      <td>4.800000e+01</td>\n",
       "      <td>4.800000e+01</td>\n",
       "      <td>1.200000e+02</td>\n",
       "      <td>1.008000e+03</td>\n",
       "    </tr>\n",
       "  </tbody>\n",
       "</table>\n",
       "</div>"
      ],
      "text/plain": [
       "                        count          mean           std           min  \\\n",
       "ProductId              9886.0  6.104485e+16  5.315584e+18 -9.172604e+18   \n",
       "ListingPrice           9886.0  2.164802e+02  2.565794e+02  3.240000e+00   \n",
       "SellerFeedbackRating   9886.0  8.897593e+01  2.155962e+01  0.000000e+00   \n",
       "SellerFeedbackCount    9886.0  6.910402e+03  1.091824e+04  0.000000e+00   \n",
       "SellerId               9886.0  9.641003e+17  4.919222e+18 -9.136118e+18   \n",
       "ShippingPrice          9886.0  1.243470e+01  2.647657e+01  0.000000e+00   \n",
       "ShippingTime_minHours  9886.0  5.726644e+01  8.280107e+01  0.000000e+00   \n",
       "ShippingTime_maxHours  9886.0  8.887477e+01  1.203972e+02  0.000000e+00   \n",
       "\n",
       "                                25%           50%           75%           max  \n",
       "ProductId             -4.356483e+18  2.477570e+16  5.056101e+18  9.207147e+18  \n",
       "ListingPrice           6.363000e+01  1.259900e+02  2.578625e+02  3.194320e+03  \n",
       "SellerFeedbackRating   9.100000e+01  9.500000e+01  9.600000e+01  1.000000e+02  \n",
       "SellerFeedbackCount    3.380000e+02  3.293000e+03  8.452000e+03  4.142000e+04  \n",
       "SellerId              -2.572278e+18  1.163115e+18  5.477945e+18  9.174048e+18  \n",
       "ShippingPrice          0.000000e+00  7.500000e+00  1.368000e+01  7.052700e+02  \n",
       "ShippingTime_minHours  2.400000e+01  2.400000e+01  9.600000e+01  6.720000e+02  \n",
       "ShippingTime_maxHours  4.800000e+01  4.800000e+01  1.200000e+02  1.008000e+03  "
      ]
     },
     "execution_count": 166,
     "metadata": {},
     "output_type": "execute_result"
    }
   ],
   "source": [
    "# Descriptive stats for continuous features - transposed table\n",
    "df[continuous_columns].describe().T"
   ]
  },
  {
   "cell_type": "markdown",
   "metadata": {},
   "source": [
    "## Prepare a table with descriptive statistics for all the categorical features."
   ]
  },
  {
   "cell_type": "code",
   "execution_count": 167,
   "metadata": {
    "collapsed": false
   },
   "outputs": [
    {
     "data": {
      "text/plain": [
       "Index(['IsWinner', 'IsFeaturedMerchant', 'IsFulfilledByAmazon',\n",
       "       'ShipsFromCountry', 'ShipsFromState'],\n",
       "      dtype='object')"
      ]
     },
     "execution_count": 167,
     "metadata": {},
     "output_type": "execute_result"
    }
   ],
   "source": [
    "#Look at categorical columns - marked as 'category' data type\n",
    "categorical_columns = df.select_dtypes(['category']).columns\n",
    "categorical_columns"
   ]
  },
  {
   "cell_type": "code",
   "execution_count": 168,
   "metadata": {
    "collapsed": false
   },
   "outputs": [
    {
     "data": {
      "text/html": [
       "<div>\n",
       "<table border=\"1\" class=\"dataframe\">\n",
       "  <thead>\n",
       "    <tr style=\"text-align: right;\">\n",
       "      <th></th>\n",
       "      <th>count</th>\n",
       "      <th>unique</th>\n",
       "      <th>top</th>\n",
       "      <th>freq</th>\n",
       "    </tr>\n",
       "  </thead>\n",
       "  <tbody>\n",
       "    <tr>\n",
       "      <th>IsWinner</th>\n",
       "      <td>9886</td>\n",
       "      <td>2</td>\n",
       "      <td>0</td>\n",
       "      <td>9339</td>\n",
       "    </tr>\n",
       "    <tr>\n",
       "      <th>IsFeaturedMerchant</th>\n",
       "      <td>9886</td>\n",
       "      <td>2</td>\n",
       "      <td>1</td>\n",
       "      <td>8090</td>\n",
       "    </tr>\n",
       "    <tr>\n",
       "      <th>IsFulfilledByAmazon</th>\n",
       "      <td>9886</td>\n",
       "      <td>2</td>\n",
       "      <td>0</td>\n",
       "      <td>9519</td>\n",
       "    </tr>\n",
       "    <tr>\n",
       "      <th>ShipsFromCountry</th>\n",
       "      <td>6217</td>\n",
       "      <td>13</td>\n",
       "      <td>CA</td>\n",
       "      <td>3655</td>\n",
       "    </tr>\n",
       "    <tr>\n",
       "      <th>ShipsFromState</th>\n",
       "      <td>5851</td>\n",
       "      <td>24</td>\n",
       "      <td>ON</td>\n",
       "      <td>2211</td>\n",
       "    </tr>\n",
       "  </tbody>\n",
       "</table>\n",
       "</div>"
      ],
      "text/plain": [
       "                    count unique top  freq\n",
       "IsWinner             9886      2   0  9339\n",
       "IsFeaturedMerchant   9886      2   1  8090\n",
       "IsFulfilledByAmazon  9886      2   0  9519\n",
       "ShipsFromCountry     6217     13  CA  3655\n",
       "ShipsFromState       5851     24  ON  2211"
      ]
     },
     "execution_count": 168,
     "metadata": {},
     "output_type": "execute_result"
    }
   ],
   "source": [
    "# Descriptive stats for categorical features\n",
    "df[categorical_columns].describe().T"
   ]
  },
  {
   "cell_type": "markdown",
   "metadata": {},
   "source": [
    "## Plot histograms for all the continuous features.\n",
    "The ProductId and the SellerId have been plotted here because I wanted to see a visual representation of the range of products and sellers in the dataset. "
   ]
  },
  {
   "cell_type": "code",
   "execution_count": 169,
   "metadata": {
    "collapsed": false
   },
   "outputs": [
    {
     "data": {
      "text/plain": [
       "array([[<matplotlib.axes._subplots.AxesSubplot object at 0x11b3d00b8>,\n",
       "        <matplotlib.axes._subplots.AxesSubplot object at 0x11b8e4a90>,\n",
       "        <matplotlib.axes._subplots.AxesSubplot object at 0x119e1add8>],\n",
       "       [<matplotlib.axes._subplots.AxesSubplot object at 0x119e8cc88>,\n",
       "        <matplotlib.axes._subplots.AxesSubplot object at 0x119935358>,\n",
       "        <matplotlib.axes._subplots.AxesSubplot object at 0x119d26470>],\n",
       "       [<matplotlib.axes._subplots.AxesSubplot object at 0x119d3e710>,\n",
       "        <matplotlib.axes._subplots.AxesSubplot object at 0x118de3b38>,\n",
       "        <matplotlib.axes._subplots.AxesSubplot object at 0x1174a59b0>]], dtype=object)"
      ]
     },
     "execution_count": 169,
     "metadata": {},
     "output_type": "execute_result"
    },
    {
     "data": {
      "image/png": "[encoded data removed]",
      "text/plain": [
       "<matplotlib.figure.Figure at 0x11b3d2630>"
      ]
     },
     "metadata": {},
     "output_type": "display_data"
    }
   ],
   "source": [
    "# Plot a histogram of the continuous features\n",
    "df[continuous_columns].hist(figsize=(15,15))"
   ]
  },
  {
   "cell_type": "markdown",
   "metadata": {},
   "source": [
    "## Plot box plots for all the continuous features."
   ]
  },
  {
   "cell_type": "code",
   "execution_count": 170,
   "metadata": {
    "collapsed": false
   },
   "outputs": [
    {
     "data": {
      "image/png": "[encoded data removed]",
      "text/plain": [
       "<matplotlib.figure.Figure at 0x1180f8cc0>"
      ]
     },
     "metadata": {},
     "output_type": "display_data"
    },
    {
     "data": {
      "image/png": "[encoded data removed]",
      "text/plain": [
       "<matplotlib.figure.Figure at 0x11b29d278>"
      ]
     },
     "metadata": {},
     "output_type": "display_data"
    },
    {
     "data": {
      "image/png": "[encoded data removed]",
      "text/plain": [
       "<matplotlib.figure.Figure at 0x11afd7828>"
      ]
     },
     "metadata": {},
     "output_type": "display_data"
    },
    {
     "data": {
      "image/png": "[encoded data removed]",
      "text/plain": [
       "<matplotlib.figure.Figure at 0x115ab9550>"
      ]
     },
     "metadata": {},
     "output_type": "display_data"
    },
    {
     "data": {
      "image/png": "[encoded data removed]",
      "text/plain": [
       "<matplotlib.figure.Figure at 0x11f3d0898>"
      ]
     },
     "metadata": {},
     "output_type": "display_data"
    },
    {
     "data": {
      "image/png": "[encoded data removed]",
      "text/plain": [
       "<matplotlib.figure.Figure at 0x11f3be668>"
      ]
     },
     "metadata": {},
     "output_type": "display_data"
    },
    {
     "data": {
      "image/png": "[encoded data removed]",
      "text/plain": [
       "<matplotlib.figure.Figure at 0x11f4df438>"
      ]
     },
     "metadata": {},
     "output_type": "display_data"
    },
    {
     "data": {
      "image/png": "[encoded data removed]",
      "text/plain": [
       "<matplotlib.figure.Figure at 0x11f75a860>"
      ]
     },
     "metadata": {},
     "output_type": "display_data"
    }
   ],
   "source": [
    "for col in continuous_columns:\n",
    "    f = df[col].plot(kind='box', figsize=(5,5))\n",
    "    plt.show()\n"
   ]
  },
  {
   "cell_type": "markdown",
   "metadata": {},
   "source": [
    "## Plot bar plots for all the categorical features."
   ]
  },
  {
   "cell_type": "code",
   "execution_count": 171,
   "metadata": {
    "collapsed": false,
    "scrolled": false
   },
   "outputs": [
    {
     "data": {
      "image/png": "[encoded data removed]",
      "text/plain": [
       "<matplotlib.figure.Figure at 0x11f5387b8>"
      ]
     },
     "metadata": {},
     "output_type": "display_data"
    },
    {
     "data": {
      "image/png": "[encoded data removed]",
      "text/plain": [
       "<matplotlib.figure.Figure at 0x11d426198>"
      ]
     },
     "metadata": {},
     "output_type": "display_data"
    },
    {
     "data": {
      "image/png": "[encoded data removed]",
      "text/plain": [
       "<matplotlib.figure.Figure at 0x11b2677b8>"
      ]
     },
     "metadata": {},
     "output_type": "display_data"
    },
    {
     "data": {
      "image/png": "[encoded data removed]",
      "text/plain": [
       "<matplotlib.figure.Figure at 0x11f3e01d0>"
      ]
     },
     "metadata": {},
     "output_type": "display_data"
    },
    {
     "data": {
      "image/png": "[encoded data removed]",
      "text/plain": [
       "<matplotlib.figure.Figure at 0x11d41e438>"
      ]
     },
     "metadata": {},
     "output_type": "display_data"
    }
   ],
   "source": [
    "for column in categorical_columns:\n",
    "    f = df[column].value_counts().plot(kind='bar', title=column, figsize=(8,5))\n",
    "    plt.show()"
   ]
  },
  {
   "cell_type": "markdown",
   "metadata": {},
   "source": [
    "# (2) Prepare a data quality plan for the CSV file.\n",
    "## Mark down all the features where there are potential problems or data quality issues."
   ]
  },
  {
   "cell_type": "markdown",
   "metadata": {},
   "source": [
    "## Irregular cardinality\n",
    "\n",
    "Categorical features can have irregular cardinality if the same value is entered several times with a different spelling for example. In the following cell, I check whether there are any values in the categorical features which are duplicated because \n",
    "of spelling mistakes or different input standards"
   ]
  },
  {
   "cell_type": "code",
   "execution_count": 172,
   "metadata": {
    "collapsed": false
   },
   "outputs": [
    {
     "name": "stdout",
     "output_type": "stream",
     "text": [
      "Unique values for:\n",
      "- IsWinner: [0 1]\n",
      "\n",
      "- IsFeaturedMerchant: [1 0]\n",
      "\n",
      "- IsFulfilledByAmazon: [1 0]\n",
      "\n",
      "- ShipsFromCountry: [nan 'CA' 'US' 'HK' 'JP' 'IT' 'DE' 'FR' 'MY' 'GB' 'TH' 'IL' 'AT' 'KR']\n",
      "\n",
      "- ShipsFromState: [nan 'ON' 'AB' 'NY' 'QC' 'NV' 'VA' 'NJ' 'CA' 'BC' 'MI' 'PA' 'TX' 'KS' 'FL'\n",
      " 'NH' 'MD' 'TN' 'SC' 'MO' 'DE' 'NB' 'CT' 'GA' 'IL']\n"
     ]
    }
   ],
   "source": [
    "# Check for irregular cardinality in categorical features. There could be same values spelled differently\n",
    "print(\"Unique values for:\\n- IsWinner:\", pd.unique(df.IsWinner.ravel()))\n",
    "print(\"\\n- IsFeaturedMerchant:\", pd.unique(df.IsFeaturedMerchant.ravel()))\n",
    "print(\"\\n- IsFulfilledByAmazon:\", pd.unique(df.IsFulfilledByAmazon.ravel()))\n",
    "print(\"\\n- ShipsFromCountry:\", pd.unique(df.ShipsFromCountry.ravel()))\n",
    "print(\"\\n- ShipsFromState:\", pd.unique(df.ShipsFromState.ravel()))"
   ]
  },
  {
   "cell_type": "markdown",
   "metadata": {},
   "source": [
    "There does not appear to be any duplications in the cardinality of categorical features."
   ]
  },
  {
   "cell_type": "markdown",
   "metadata": {},
   "source": [
    "## Null values\n",
    "Checking for null values in the dataset."
   ]
  },
  {
   "cell_type": "code",
   "execution_count": 173,
   "metadata": {
    "collapsed": false
   },
   "outputs": [
    {
     "data": {
      "text/plain": [
       "IsWinner                    0\n",
       "ProductId                   0\n",
       "TimeOfOfferChange           0\n",
       "ConditionNotes           4626\n",
       "IsFeaturedMerchant          0\n",
       "IsFulfilledByAmazon         0\n",
       "ListingPrice                0\n",
       "SellerFeedbackRating        0\n",
       "SellerFeedbackCount         0\n",
       "SellerId                    0\n",
       "ShippingPrice               0\n",
       "ShippingTime_minHours       0\n",
       "ShippingTime_maxHours       0\n",
       "ShipsFromCountry         3669\n",
       "ShipsFromState           4035\n",
       "dtype: int64"
      ]
     },
     "execution_count": 173,
     "metadata": {},
     "output_type": "execute_result"
    }
   ],
   "source": [
    "# Check whether there are null values in the data where values would be expected\n",
    "df.isnull().sum()"
   ]
  },
  {
   "cell_type": "markdown",
   "metadata": {},
   "source": [
    "There are 3 columns in the dataset containing some null values. \n",
    "\n",
    "ConditionNotes - it does not seem absolutely necessary to have notes, therefore null values here does not materially affect the integrity of the data.\n",
    "\n",
    "ShipsFromCountry & ShipsFromState - values would be expected for each of these columns. But there appears to be a large proportion of fields will null values in each case. However, it is debatable as to how relevant this information is to the outcome of 'isWinner'."
   ]
  },
  {
   "cell_type": "markdown",
   "metadata": {},
   "source": [
    "## Outliers\n",
    "In the box plots produced above, there are a number of outliers for the listing price, shipping price and shipping time in hours (minimum and maximum). They could be error in the data or represent correct information. The following cells look at the top 5 outliers for each of these columns.\n",
    "\n",
    "I have ignored the outliers relating to seller feedback rating and feedback count, as I am not convinced this analysis will add the the overall analysis.\n",
    "\n",
    "### Outliers - ListingPrices"
   ]
  },
  {
   "cell_type": "code",
   "execution_count": 174,
   "metadata": {
    "collapsed": false,
    "scrolled": true
   },
   "outputs": [
    {
     "data": {
      "text/html": [
       "<div>\n",
       "<table border=\"1\" class=\"dataframe\">\n",
       "  <thead>\n",
       "    <tr style=\"text-align: right;\">\n",
       "      <th></th>\n",
       "      <th>IsWinner</th>\n",
       "      <th>ProductId</th>\n",
       "      <th>TimeOfOfferChange</th>\n",
       "      <th>ConditionNotes</th>\n",
       "      <th>IsFeaturedMerchant</th>\n",
       "      <th>IsFulfilledByAmazon</th>\n",
       "      <th>ListingPrice</th>\n",
       "      <th>SellerFeedbackRating</th>\n",
       "      <th>SellerFeedbackCount</th>\n",
       "      <th>SellerId</th>\n",
       "      <th>ShippingPrice</th>\n",
       "      <th>ShippingTime_minHours</th>\n",
       "      <th>ShippingTime_maxHours</th>\n",
       "      <th>ShipsFromCountry</th>\n",
       "      <th>ShipsFromState</th>\n",
       "    </tr>\n",
       "  </thead>\n",
       "  <tbody>\n",
       "    <tr>\n",
       "      <th>9069</th>\n",
       "      <td>0</td>\n",
       "      <td>2471683711038624825</td>\n",
       "      <td>2016-02-04T05:26:20.217Z</td>\n",
       "      <td>NaN</td>\n",
       "      <td>1</td>\n",
       "      <td>0</td>\n",
       "      <td>3194.32</td>\n",
       "      <td>96</td>\n",
       "      <td>1327</td>\n",
       "      <td>8648764257939339698</td>\n",
       "      <td>0.00</td>\n",
       "      <td>24</td>\n",
       "      <td>48</td>\n",
       "      <td>NaN</td>\n",
       "      <td>NaN</td>\n",
       "    </tr>\n",
       "    <tr>\n",
       "      <th>6890</th>\n",
       "      <td>0</td>\n",
       "      <td>2471683711038624825</td>\n",
       "      <td>2016-02-04T04:55:25.453Z</td>\n",
       "      <td>NaN</td>\n",
       "      <td>1</td>\n",
       "      <td>0</td>\n",
       "      <td>3194.32</td>\n",
       "      <td>96</td>\n",
       "      <td>1327</td>\n",
       "      <td>8648764257939339698</td>\n",
       "      <td>0.00</td>\n",
       "      <td>24</td>\n",
       "      <td>48</td>\n",
       "      <td>NaN</td>\n",
       "      <td>NaN</td>\n",
       "    </tr>\n",
       "    <tr>\n",
       "      <th>4947</th>\n",
       "      <td>0</td>\n",
       "      <td>2471683711038624825</td>\n",
       "      <td>2016-02-04T04:34:45.419Z</td>\n",
       "      <td>NaN</td>\n",
       "      <td>1</td>\n",
       "      <td>0</td>\n",
       "      <td>3194.32</td>\n",
       "      <td>96</td>\n",
       "      <td>1326</td>\n",
       "      <td>8648764257939339698</td>\n",
       "      <td>0.00</td>\n",
       "      <td>24</td>\n",
       "      <td>48</td>\n",
       "      <td>NaN</td>\n",
       "      <td>NaN</td>\n",
       "    </tr>\n",
       "    <tr>\n",
       "      <th>152</th>\n",
       "      <td>0</td>\n",
       "      <td>-5924928993300787167</td>\n",
       "      <td>2016-02-04T04:30:08.154Z</td>\n",
       "      <td>GST/HST Only, No PST. Part Mummber: 184755</td>\n",
       "      <td>1</td>\n",
       "      <td>0</td>\n",
       "      <td>2999.00</td>\n",
       "      <td>95</td>\n",
       "      <td>4384</td>\n",
       "      <td>-2572277640783537773</td>\n",
       "      <td>12.12</td>\n",
       "      <td>24</td>\n",
       "      <td>48</td>\n",
       "      <td>CA</td>\n",
       "      <td>ON</td>\n",
       "    </tr>\n",
       "    <tr>\n",
       "      <th>4830</th>\n",
       "      <td>0</td>\n",
       "      <td>1711327863243739776</td>\n",
       "      <td>2016-02-04T04:34:33.189Z</td>\n",
       "      <td>GST/HST Only, No PST. Part Number: ET91000SFP2</td>\n",
       "      <td>1</td>\n",
       "      <td>0</td>\n",
       "      <td>2999.00</td>\n",
       "      <td>95</td>\n",
       "      <td>4385</td>\n",
       "      <td>-2572277640783537773</td>\n",
       "      <td>12.52</td>\n",
       "      <td>24</td>\n",
       "      <td>48</td>\n",
       "      <td>CA</td>\n",
       "      <td>ON</td>\n",
       "    </tr>\n",
       "  </tbody>\n",
       "</table>\n",
       "</div>"
      ],
      "text/plain": [
       "     IsWinner            ProductId         TimeOfOfferChange  \\\n",
       "9069        0  2471683711038624825  2016-02-04T05:26:20.217Z   \n",
       "6890        0  2471683711038624825  2016-02-04T04:55:25.453Z   \n",
       "4947        0  2471683711038624825  2016-02-04T04:34:45.419Z   \n",
       "152         0 -5924928993300787167  2016-02-04T04:30:08.154Z   \n",
       "4830        0  1711327863243739776  2016-02-04T04:34:33.189Z   \n",
       "\n",
       "                                      ConditionNotes IsFeaturedMerchant  \\\n",
       "9069                                             NaN                  1   \n",
       "6890                                             NaN                  1   \n",
       "4947                                             NaN                  1   \n",
       "152       GST/HST Only, No PST. Part Mummber: 184755                  1   \n",
       "4830  GST/HST Only, No PST. Part Number: ET91000SFP2                  1   \n",
       "\n",
       "     IsFulfilledByAmazon  ListingPrice  SellerFeedbackRating  \\\n",
       "9069                   0       3194.32                    96   \n",
       "6890                   0       3194.32                    96   \n",
       "4947                   0       3194.32                    96   \n",
       "152                    0       2999.00                    95   \n",
       "4830                   0       2999.00                    95   \n",
       "\n",
       "      SellerFeedbackCount             SellerId  ShippingPrice  \\\n",
       "9069                 1327  8648764257939339698           0.00   \n",
       "6890                 1327  8648764257939339698           0.00   \n",
       "4947                 1326  8648764257939339698           0.00   \n",
       "152                  4384 -2572277640783537773          12.12   \n",
       "4830                 4385 -2572277640783537773          12.52   \n",
       "\n",
       "      ShippingTime_minHours  ShippingTime_maxHours ShipsFromCountry  \\\n",
       "9069                     24                     48              NaN   \n",
       "6890                     24                     48              NaN   \n",
       "4947                     24                     48              NaN   \n",
       "152                      24                     48               CA   \n",
       "4830                     24                     48               CA   \n",
       "\n",
       "     ShipsFromState  \n",
       "9069            NaN  \n",
       "6890            NaN  \n",
       "4947            NaN  \n",
       "152              ON  \n",
       "4830             ON  "
      ]
     },
     "execution_count": 174,
     "metadata": {},
     "output_type": "execute_result"
    }
   ],
   "source": [
    "# Find out the 5 highest ListingPrices\n",
    "df.sort_values(by='ListingPrice', axis=0, ascending=False, inplace=False, kind='quicksort', na_position='last').head(5)"
   ]
  },
  {
   "cell_type": "markdown",
   "metadata": {},
   "source": [
    "The five highest listing prices relate to 3 product IDs. The next step is the see whether the prices are listed correctly, or whether they are errors.\n",
    "For each ProductId, the ListingPrice is looked at in detail below, to see if there is much variation in the ListingPrice for a given product ID."
   ]
  },
  {
   "cell_type": "code",
   "execution_count": 175,
   "metadata": {
    "collapsed": false,
    "scrolled": true
   },
   "outputs": [
    {
     "data": {
      "text/html": [
       "<div>\n",
       "<table border=\"1\" class=\"dataframe\">\n",
       "  <thead>\n",
       "    <tr style=\"text-align: right;\">\n",
       "      <th></th>\n",
       "      <th>IsWinner</th>\n",
       "      <th>ProductId</th>\n",
       "      <th>TimeOfOfferChange</th>\n",
       "      <th>ConditionNotes</th>\n",
       "      <th>IsFeaturedMerchant</th>\n",
       "      <th>IsFulfilledByAmazon</th>\n",
       "      <th>ListingPrice</th>\n",
       "      <th>SellerFeedbackRating</th>\n",
       "      <th>SellerFeedbackCount</th>\n",
       "      <th>SellerId</th>\n",
       "      <th>ShippingPrice</th>\n",
       "      <th>ShippingTime_minHours</th>\n",
       "      <th>ShippingTime_maxHours</th>\n",
       "      <th>ShipsFromCountry</th>\n",
       "      <th>ShipsFromState</th>\n",
       "    </tr>\n",
       "  </thead>\n",
       "  <tbody>\n",
       "    <tr>\n",
       "      <th>4931</th>\n",
       "      <td>1</td>\n",
       "      <td>2471683711038624825</td>\n",
       "      <td>2016-02-04T04:34:45.419Z</td>\n",
       "      <td>NaN</td>\n",
       "      <td>1</td>\n",
       "      <td>1</td>\n",
       "      <td>472.76</td>\n",
       "      <td>0</td>\n",
       "      <td>0</td>\n",
       "      <td>1207135739277432339</td>\n",
       "      <td>0.00</td>\n",
       "      <td>0</td>\n",
       "      <td>0</td>\n",
       "      <td>NaN</td>\n",
       "      <td>NaN</td>\n",
       "    </tr>\n",
       "    <tr>\n",
       "      <th>4932</th>\n",
       "      <td>0</td>\n",
       "      <td>2471683711038624825</td>\n",
       "      <td>2016-02-04T04:34:45.419Z</td>\n",
       "      <td>NaN</td>\n",
       "      <td>1</td>\n",
       "      <td>0</td>\n",
       "      <td>506.67</td>\n",
       "      <td>95</td>\n",
       "      <td>10182</td>\n",
       "      <td>7102261811958052132</td>\n",
       "      <td>14.73</td>\n",
       "      <td>96</td>\n",
       "      <td>120</td>\n",
       "      <td>CA</td>\n",
       "      <td>BC</td>\n",
       "    </tr>\n",
       "    <tr>\n",
       "      <th>4933</th>\n",
       "      <td>0</td>\n",
       "      <td>2471683711038624825</td>\n",
       "      <td>2016-02-04T04:34:45.419Z</td>\n",
       "      <td>NaN</td>\n",
       "      <td>0</td>\n",
       "      <td>0</td>\n",
       "      <td>499.00</td>\n",
       "      <td>93</td>\n",
       "      <td>3182</td>\n",
       "      <td>7600946845041350706</td>\n",
       "      <td>30.50</td>\n",
       "      <td>24</td>\n",
       "      <td>48</td>\n",
       "      <td>CA</td>\n",
       "      <td>ON</td>\n",
       "    </tr>\n",
       "    <tr>\n",
       "      <th>4934</th>\n",
       "      <td>0</td>\n",
       "      <td>2471683711038624825</td>\n",
       "      <td>2016-02-04T04:34:45.419Z</td>\n",
       "      <td>Ownership. Respect. Family. An Employee Owned ...</td>\n",
       "      <td>0</td>\n",
       "      <td>0</td>\n",
       "      <td>552.99</td>\n",
       "      <td>84</td>\n",
       "      <td>161</td>\n",
       "      <td>-3129154375621551414</td>\n",
       "      <td>0.00</td>\n",
       "      <td>24</td>\n",
       "      <td>48</td>\n",
       "      <td>CA</td>\n",
       "      <td>ON</td>\n",
       "    </tr>\n",
       "    <tr>\n",
       "      <th>4935</th>\n",
       "      <td>0</td>\n",
       "      <td>2471683711038624825</td>\n",
       "      <td>2016-02-04T04:34:45.419Z</td>\n",
       "      <td>Ready To Ship - We are unable to ship to PO Bo...</td>\n",
       "      <td>1</td>\n",
       "      <td>0</td>\n",
       "      <td>559.44</td>\n",
       "      <td>95</td>\n",
       "      <td>4078</td>\n",
       "      <td>-1789487307643024748</td>\n",
       "      <td>0.00</td>\n",
       "      <td>48</td>\n",
       "      <td>72</td>\n",
       "      <td>CA</td>\n",
       "      <td>ON</td>\n",
       "    </tr>\n",
       "  </tbody>\n",
       "</table>\n",
       "</div>"
      ],
      "text/plain": [
       "     IsWinner            ProductId         TimeOfOfferChange  \\\n",
       "4931        1  2471683711038624825  2016-02-04T04:34:45.419Z   \n",
       "4932        0  2471683711038624825  2016-02-04T04:34:45.419Z   \n",
       "4933        0  2471683711038624825  2016-02-04T04:34:45.419Z   \n",
       "4934        0  2471683711038624825  2016-02-04T04:34:45.419Z   \n",
       "4935        0  2471683711038624825  2016-02-04T04:34:45.419Z   \n",
       "\n",
       "                                         ConditionNotes IsFeaturedMerchant  \\\n",
       "4931                                                NaN                  1   \n",
       "4932                                                NaN                  1   \n",
       "4933                                                NaN                  0   \n",
       "4934  Ownership. Respect. Family. An Employee Owned ...                  0   \n",
       "4935  Ready To Ship - We are unable to ship to PO Bo...                  1   \n",
       "\n",
       "     IsFulfilledByAmazon  ListingPrice  SellerFeedbackRating  \\\n",
       "4931                   1        472.76                     0   \n",
       "4932                   0        506.67                    95   \n",
       "4933                   0        499.00                    93   \n",
       "4934                   0        552.99                    84   \n",
       "4935                   0        559.44                    95   \n",
       "\n",
       "      SellerFeedbackCount             SellerId  ShippingPrice  \\\n",
       "4931                    0  1207135739277432339           0.00   \n",
       "4932                10182  7102261811958052132          14.73   \n",
       "4933                 3182  7600946845041350706          30.50   \n",
       "4934                  161 -3129154375621551414           0.00   \n",
       "4935                 4078 -1789487307643024748           0.00   \n",
       "\n",
       "      ShippingTime_minHours  ShippingTime_maxHours ShipsFromCountry  \\\n",
       "4931                      0                      0              NaN   \n",
       "4932                     96                    120               CA   \n",
       "4933                     24                     48               CA   \n",
       "4934                     24                     48               CA   \n",
       "4935                     48                     72               CA   \n",
       "\n",
       "     ShipsFromState  \n",
       "4931            NaN  \n",
       "4932             BC  \n",
       "4933             ON  \n",
       "4934             ON  \n",
       "4935             ON  "
      ]
     },
     "execution_count": 175,
     "metadata": {},
     "output_type": "execute_result"
    }
   ],
   "source": [
    "df_O1 = df.loc[df['ProductId'] == 2471683711038624825]\n",
    "df_O1.head(5)"
   ]
  },
  {
   "cell_type": "code",
   "execution_count": 176,
   "metadata": {
    "collapsed": false,
    "scrolled": true
   },
   "outputs": [
    {
     "data": {
      "text/plain": [
       "<matplotlib.axes._subplots.AxesSubplot at 0x11f7035f8>"
      ]
     },
     "execution_count": 176,
     "metadata": {},
     "output_type": "execute_result"
    },
    {
     "data": {
      "image/png": "[encoded data removed]",
      "text/plain": [
       "<matplotlib.figure.Figure at 0x11afba9b0>"
      ]
     },
     "metadata": {},
     "output_type": "display_data"
    }
   ],
   "source": [
    "df_O1['ListingPrice'].plot(kind='hist')"
   ]
  },
  {
   "cell_type": "markdown",
   "metadata": {},
   "source": [
    "The outliers in price shown above look unrealistic, given it's for the same ProductId. This could be due to reasons such as error or data corruption."
   ]
  },
  {
   "cell_type": "code",
   "execution_count": 177,
   "metadata": {
    "collapsed": false,
    "scrolled": true
   },
   "outputs": [
    {
     "data": {
      "text/html": [
       "<div>\n",
       "<table border=\"1\" class=\"dataframe\">\n",
       "  <thead>\n",
       "    <tr style=\"text-align: right;\">\n",
       "      <th></th>\n",
       "      <th>IsWinner</th>\n",
       "      <th>ProductId</th>\n",
       "      <th>TimeOfOfferChange</th>\n",
       "      <th>ConditionNotes</th>\n",
       "      <th>IsFeaturedMerchant</th>\n",
       "      <th>IsFulfilledByAmazon</th>\n",
       "      <th>ListingPrice</th>\n",
       "      <th>SellerFeedbackRating</th>\n",
       "      <th>SellerFeedbackCount</th>\n",
       "      <th>SellerId</th>\n",
       "      <th>ShippingPrice</th>\n",
       "      <th>ShippingTime_minHours</th>\n",
       "      <th>ShippingTime_maxHours</th>\n",
       "      <th>ShipsFromCountry</th>\n",
       "      <th>ShipsFromState</th>\n",
       "    </tr>\n",
       "  </thead>\n",
       "  <tbody>\n",
       "    <tr>\n",
       "      <th>4683</th>\n",
       "      <td>1</td>\n",
       "      <td>1711327863243739776</td>\n",
       "      <td>2016-02-04T04:35:03.792Z</td>\n",
       "      <td>NaN</td>\n",
       "      <td>1</td>\n",
       "      <td>1</td>\n",
       "      <td>167.98</td>\n",
       "      <td>0</td>\n",
       "      <td>0</td>\n",
       "      <td>1207135739277432339</td>\n",
       "      <td>0.00</td>\n",
       "      <td>0</td>\n",
       "      <td>0</td>\n",
       "      <td>NaN</td>\n",
       "      <td>NaN</td>\n",
       "    </tr>\n",
       "    <tr>\n",
       "      <th>4684</th>\n",
       "      <td>0</td>\n",
       "      <td>1711327863243739776</td>\n",
       "      <td>2016-02-04T04:35:03.792Z</td>\n",
       "      <td>100% Duty Free Shopping. We prepay ALL Duties,...</td>\n",
       "      <td>1</td>\n",
       "      <td>0</td>\n",
       "      <td>213.18</td>\n",
       "      <td>91</td>\n",
       "      <td>3459</td>\n",
       "      <td>7235704646333918828</td>\n",
       "      <td>0.00</td>\n",
       "      <td>24</td>\n",
       "      <td>48</td>\n",
       "      <td>NaN</td>\n",
       "      <td>NaN</td>\n",
       "    </tr>\n",
       "    <tr>\n",
       "      <th>4685</th>\n",
       "      <td>0</td>\n",
       "      <td>1711327863243739776</td>\n",
       "      <td>2016-02-04T04:35:03.792Z</td>\n",
       "      <td>NaN</td>\n",
       "      <td>1</td>\n",
       "      <td>0</td>\n",
       "      <td>185.16</td>\n",
       "      <td>93</td>\n",
       "      <td>2521</td>\n",
       "      <td>-5016003493506265192</td>\n",
       "      <td>28.42</td>\n",
       "      <td>24</td>\n",
       "      <td>48</td>\n",
       "      <td>US</td>\n",
       "      <td>VA</td>\n",
       "    </tr>\n",
       "    <tr>\n",
       "      <th>4686</th>\n",
       "      <td>0</td>\n",
       "      <td>1711327863243739776</td>\n",
       "      <td>2016-02-04T04:35:03.792Z</td>\n",
       "      <td>Brand new items, Experienced seller, Shipping ...</td>\n",
       "      <td>1</td>\n",
       "      <td>0</td>\n",
       "      <td>219.17</td>\n",
       "      <td>96</td>\n",
       "      <td>35270</td>\n",
       "      <td>6791568714796518563</td>\n",
       "      <td>0.00</td>\n",
       "      <td>96</td>\n",
       "      <td>120</td>\n",
       "      <td>CA</td>\n",
       "      <td>QC</td>\n",
       "    </tr>\n",
       "    <tr>\n",
       "      <th>4687</th>\n",
       "      <td>0</td>\n",
       "      <td>1711327863243739776</td>\n",
       "      <td>2016-02-04T04:35:03.792Z</td>\n",
       "      <td>BRAND NEW!! HST ALREADY INCLUDED IN PRICE! NO ...</td>\n",
       "      <td>1</td>\n",
       "      <td>0</td>\n",
       "      <td>225.14</td>\n",
       "      <td>91</td>\n",
       "      <td>10606</td>\n",
       "      <td>-1177408302343430963</td>\n",
       "      <td>5.00</td>\n",
       "      <td>24</td>\n",
       "      <td>48</td>\n",
       "      <td>NaN</td>\n",
       "      <td>NaN</td>\n",
       "    </tr>\n",
       "  </tbody>\n",
       "</table>\n",
       "</div>"
      ],
      "text/plain": [
       "     IsWinner            ProductId         TimeOfOfferChange  \\\n",
       "4683        1  1711327863243739776  2016-02-04T04:35:03.792Z   \n",
       "4684        0  1711327863243739776  2016-02-04T04:35:03.792Z   \n",
       "4685        0  1711327863243739776  2016-02-04T04:35:03.792Z   \n",
       "4686        0  1711327863243739776  2016-02-04T04:35:03.792Z   \n",
       "4687        0  1711327863243739776  2016-02-04T04:35:03.792Z   \n",
       "\n",
       "                                         ConditionNotes IsFeaturedMerchant  \\\n",
       "4683                                                NaN                  1   \n",
       "4684  100% Duty Free Shopping. We prepay ALL Duties,...                  1   \n",
       "4685                                                NaN                  1   \n",
       "4686  Brand new items, Experienced seller, Shipping ...                  1   \n",
       "4687  BRAND NEW!! HST ALREADY INCLUDED IN PRICE! NO ...                  1   \n",
       "\n",
       "     IsFulfilledByAmazon  ListingPrice  SellerFeedbackRating  \\\n",
       "4683                   1        167.98                     0   \n",
       "4684                   0        213.18                    91   \n",
       "4685                   0        185.16                    93   \n",
       "4686                   0        219.17                    96   \n",
       "4687                   0        225.14                    91   \n",
       "\n",
       "      SellerFeedbackCount             SellerId  ShippingPrice  \\\n",
       "4683                    0  1207135739277432339           0.00   \n",
       "4684                 3459  7235704646333918828           0.00   \n",
       "4685                 2521 -5016003493506265192          28.42   \n",
       "4686                35270  6791568714796518563           0.00   \n",
       "4687                10606 -1177408302343430963           5.00   \n",
       "\n",
       "      ShippingTime_minHours  ShippingTime_maxHours ShipsFromCountry  \\\n",
       "4683                      0                      0              NaN   \n",
       "4684                     24                     48              NaN   \n",
       "4685                     24                     48               US   \n",
       "4686                     96                    120               CA   \n",
       "4687                     24                     48              NaN   \n",
       "\n",
       "     ShipsFromState  \n",
       "4683            NaN  \n",
       "4684            NaN  \n",
       "4685             VA  \n",
       "4686             QC  \n",
       "4687            NaN  "
      ]
     },
     "execution_count": 177,
     "metadata": {},
     "output_type": "execute_result"
    }
   ],
   "source": [
    "df_O2 = df.loc[df['ProductId'] == 1711327863243739776]\n",
    "df_O2.head(5)"
   ]
  },
  {
   "cell_type": "code",
   "execution_count": 178,
   "metadata": {
    "collapsed": false,
    "scrolled": true
   },
   "outputs": [
    {
     "data": {
      "text/plain": [
       "<matplotlib.axes._subplots.AxesSubplot at 0x11afd7c18>"
      ]
     },
     "execution_count": 178,
     "metadata": {},
     "output_type": "execute_result"
    },
    {
     "data": {
      "image/png": "[encoded data removed]",
      "text/plain": [
       "<matplotlib.figure.Figure at 0x115ac6d68>"
      ]
     },
     "metadata": {},
     "output_type": "display_data"
    }
   ],
   "source": [
    "df_O2['ListingPrice'].plot(kind='hist')"
   ]
  },
  {
   "cell_type": "markdown",
   "metadata": {},
   "source": [
    "The outliers in price shown above look unrealistic, given it's for the same ProductId. This could be due to reasons such as error or data corruption."
   ]
  },
  {
   "cell_type": "code",
   "execution_count": 179,
   "metadata": {
    "collapsed": false,
    "scrolled": true
   },
   "outputs": [
    {
     "data": {
      "text/html": [
       "<div>\n",
       "<table border=\"1\" class=\"dataframe\">\n",
       "  <thead>\n",
       "    <tr style=\"text-align: right;\">\n",
       "      <th></th>\n",
       "      <th>IsWinner</th>\n",
       "      <th>ProductId</th>\n",
       "      <th>TimeOfOfferChange</th>\n",
       "      <th>ConditionNotes</th>\n",
       "      <th>IsFeaturedMerchant</th>\n",
       "      <th>IsFulfilledByAmazon</th>\n",
       "      <th>ListingPrice</th>\n",
       "      <th>SellerFeedbackRating</th>\n",
       "      <th>SellerFeedbackCount</th>\n",
       "      <th>SellerId</th>\n",
       "      <th>ShippingPrice</th>\n",
       "      <th>ShippingTime_minHours</th>\n",
       "      <th>ShippingTime_maxHours</th>\n",
       "      <th>ShipsFromCountry</th>\n",
       "      <th>ShipsFromState</th>\n",
       "    </tr>\n",
       "  </thead>\n",
       "  <tbody>\n",
       "    <tr>\n",
       "      <th>137</th>\n",
       "      <td>1</td>\n",
       "      <td>-5924928993300787167</td>\n",
       "      <td>2016-02-04T04:30:08.154Z</td>\n",
       "      <td>NaN</td>\n",
       "      <td>1</td>\n",
       "      <td>1</td>\n",
       "      <td>44.99</td>\n",
       "      <td>0</td>\n",
       "      <td>0</td>\n",
       "      <td>1207135739277432339</td>\n",
       "      <td>0.00</td>\n",
       "      <td>0</td>\n",
       "      <td>0</td>\n",
       "      <td>NaN</td>\n",
       "      <td>NaN</td>\n",
       "    </tr>\n",
       "    <tr>\n",
       "      <th>138</th>\n",
       "      <td>0</td>\n",
       "      <td>-5924928993300787167</td>\n",
       "      <td>2016-02-04T04:30:08.154Z</td>\n",
       "      <td>Brand new items, Experienced seller, Shipping ...</td>\n",
       "      <td>1</td>\n",
       "      <td>0</td>\n",
       "      <td>49.38</td>\n",
       "      <td>96</td>\n",
       "      <td>35264</td>\n",
       "      <td>6791568714796518563</td>\n",
       "      <td>0.00</td>\n",
       "      <td>96</td>\n",
       "      <td>120</td>\n",
       "      <td>CA</td>\n",
       "      <td>QC</td>\n",
       "    </tr>\n",
       "    <tr>\n",
       "      <th>139</th>\n",
       "      <td>0</td>\n",
       "      <td>-5924928993300787167</td>\n",
       "      <td>2016-02-04T04:30:08.154Z</td>\n",
       "      <td>NaN</td>\n",
       "      <td>0</td>\n",
       "      <td>0</td>\n",
       "      <td>43.32</td>\n",
       "      <td>98</td>\n",
       "      <td>3293</td>\n",
       "      <td>4143506568603310959</td>\n",
       "      <td>13.09</td>\n",
       "      <td>96</td>\n",
       "      <td>120</td>\n",
       "      <td>US</td>\n",
       "      <td>NY</td>\n",
       "    </tr>\n",
       "    <tr>\n",
       "      <th>140</th>\n",
       "      <td>0</td>\n",
       "      <td>-5924928993300787167</td>\n",
       "      <td>2016-02-04T04:30:08.154Z</td>\n",
       "      <td>NaN</td>\n",
       "      <td>1</td>\n",
       "      <td>0</td>\n",
       "      <td>53.54</td>\n",
       "      <td>96</td>\n",
       "      <td>1790</td>\n",
       "      <td>1788801474825896666</td>\n",
       "      <td>9.98</td>\n",
       "      <td>96</td>\n",
       "      <td>120</td>\n",
       "      <td>US</td>\n",
       "      <td>NY</td>\n",
       "    </tr>\n",
       "    <tr>\n",
       "      <th>141</th>\n",
       "      <td>0</td>\n",
       "      <td>-5924928993300787167</td>\n",
       "      <td>2016-02-04T04:30:08.154Z</td>\n",
       "      <td>NaN</td>\n",
       "      <td>1</td>\n",
       "      <td>0</td>\n",
       "      <td>55.45</td>\n",
       "      <td>96</td>\n",
       "      <td>1790</td>\n",
       "      <td>1788801474825896666</td>\n",
       "      <td>9.98</td>\n",
       "      <td>96</td>\n",
       "      <td>120</td>\n",
       "      <td>US</td>\n",
       "      <td>NY</td>\n",
       "    </tr>\n",
       "  </tbody>\n",
       "</table>\n",
       "</div>"
      ],
      "text/plain": [
       "    IsWinner            ProductId         TimeOfOfferChange  \\\n",
       "137        1 -5924928993300787167  2016-02-04T04:30:08.154Z   \n",
       "138        0 -5924928993300787167  2016-02-04T04:30:08.154Z   \n",
       "139        0 -5924928993300787167  2016-02-04T04:30:08.154Z   \n",
       "140        0 -5924928993300787167  2016-02-04T04:30:08.154Z   \n",
       "141        0 -5924928993300787167  2016-02-04T04:30:08.154Z   \n",
       "\n",
       "                                        ConditionNotes IsFeaturedMerchant  \\\n",
       "137                                                NaN                  1   \n",
       "138  Brand new items, Experienced seller, Shipping ...                  1   \n",
       "139                                                NaN                  0   \n",
       "140                                                NaN                  1   \n",
       "141                                                NaN                  1   \n",
       "\n",
       "    IsFulfilledByAmazon  ListingPrice  SellerFeedbackRating  \\\n",
       "137                   1         44.99                     0   \n",
       "138                   0         49.38                    96   \n",
       "139                   0         43.32                    98   \n",
       "140                   0         53.54                    96   \n",
       "141                   0         55.45                    96   \n",
       "\n",
       "     SellerFeedbackCount             SellerId  ShippingPrice  \\\n",
       "137                    0  1207135739277432339           0.00   \n",
       "138                35264  6791568714796518563           0.00   \n",
       "139                 3293  4143506568603310959          13.09   \n",
       "140                 1790  1788801474825896666           9.98   \n",
       "141                 1790  1788801474825896666           9.98   \n",
       "\n",
       "     ShippingTime_minHours  ShippingTime_maxHours ShipsFromCountry  \\\n",
       "137                      0                      0              NaN   \n",
       "138                     96                    120               CA   \n",
       "139                     96                    120               US   \n",
       "140                     96                    120               US   \n",
       "141                     96                    120               US   \n",
       "\n",
       "    ShipsFromState  \n",
       "137            NaN  \n",
       "138             QC  \n",
       "139             NY  \n",
       "140             NY  \n",
       "141             NY  "
      ]
     },
     "execution_count": 179,
     "metadata": {},
     "output_type": "execute_result"
    }
   ],
   "source": [
    "df_O3 = df.loc[df['ProductId'] == -5924928993300787167]\n",
    "df_O3.head(5)"
   ]
  },
  {
   "cell_type": "code",
   "execution_count": 180,
   "metadata": {
    "collapsed": false
   },
   "outputs": [
    {
     "data": {
      "text/plain": [
       "<matplotlib.axes._subplots.AxesSubplot at 0x11f72ca20>"
      ]
     },
     "execution_count": 180,
     "metadata": {},
     "output_type": "execute_result"
    },
    {
     "data": {
      "image/png": "[encoded data removed]",
      "text/plain": [
       "<matplotlib.figure.Figure at 0x11f83c320>"
      ]
     },
     "metadata": {},
     "output_type": "display_data"
    }
   ],
   "source": [
    "df_O3['ListingPrice'].plot(kind='hist')"
   ]
  },
  {
   "cell_type": "markdown",
   "metadata": {},
   "source": [
    "The outliers in price shown above look unrealistic, given it's for the same ProductId. This could be due to reasons such as error or data corruption.\n",
    "\n",
    "### Conclusion - ListingPrices Outliers\n",
    "The outliers relate to 3 product IDs. After looking at the list prices for each of these product IDs, it appears the outliers are most likely due to reason such as error or data corruption as the list price for the majority of these items is far below the outliers and are within a limited range.\n",
    "\n",
    "### Outliers - ShippingPrice\n"
   ]
  },
  {
   "cell_type": "code",
   "execution_count": 181,
   "metadata": {
    "collapsed": false,
    "scrolled": true
   },
   "outputs": [
    {
     "data": {
      "text/html": [
       "<div>\n",
       "<table border=\"1\" class=\"dataframe\">\n",
       "  <thead>\n",
       "    <tr style=\"text-align: right;\">\n",
       "      <th></th>\n",
       "      <th>IsWinner</th>\n",
       "      <th>ProductId</th>\n",
       "      <th>TimeOfOfferChange</th>\n",
       "      <th>ConditionNotes</th>\n",
       "      <th>IsFeaturedMerchant</th>\n",
       "      <th>IsFulfilledByAmazon</th>\n",
       "      <th>ListingPrice</th>\n",
       "      <th>SellerFeedbackRating</th>\n",
       "      <th>SellerFeedbackCount</th>\n",
       "      <th>SellerId</th>\n",
       "      <th>ShippingPrice</th>\n",
       "      <th>ShippingTime_minHours</th>\n",
       "      <th>ShippingTime_maxHours</th>\n",
       "      <th>ShipsFromCountry</th>\n",
       "      <th>ShipsFromState</th>\n",
       "    </tr>\n",
       "  </thead>\n",
       "  <tbody>\n",
       "    <tr>\n",
       "      <th>1343</th>\n",
       "      <td>0</td>\n",
       "      <td>229338471365409007</td>\n",
       "      <td>2016-02-04T04:31:42.793Z</td>\n",
       "      <td>NaN</td>\n",
       "      <td>1</td>\n",
       "      <td>0</td>\n",
       "      <td>679.80</td>\n",
       "      <td>88</td>\n",
       "      <td>8452</td>\n",
       "      <td>-6639690782514669126</td>\n",
       "      <td>705.27</td>\n",
       "      <td>96</td>\n",
       "      <td>120</td>\n",
       "      <td>NaN</td>\n",
       "      <td>NaN</td>\n",
       "    </tr>\n",
       "    <tr>\n",
       "      <th>7392</th>\n",
       "      <td>0</td>\n",
       "      <td>229338471365409007</td>\n",
       "      <td>2016-02-04T04:56:20.610Z</td>\n",
       "      <td>NaN</td>\n",
       "      <td>1</td>\n",
       "      <td>0</td>\n",
       "      <td>679.80</td>\n",
       "      <td>88</td>\n",
       "      <td>8452</td>\n",
       "      <td>-6639690782514669126</td>\n",
       "      <td>705.27</td>\n",
       "      <td>96</td>\n",
       "      <td>120</td>\n",
       "      <td>NaN</td>\n",
       "      <td>NaN</td>\n",
       "    </tr>\n",
       "    <tr>\n",
       "      <th>5775</th>\n",
       "      <td>0</td>\n",
       "      <td>-281933683550746337</td>\n",
       "      <td>2016-02-04T04:38:39.530Z</td>\n",
       "      <td>NaN</td>\n",
       "      <td>1</td>\n",
       "      <td>0</td>\n",
       "      <td>503.49</td>\n",
       "      <td>88</td>\n",
       "      <td>8452</td>\n",
       "      <td>-6639690782514669126</td>\n",
       "      <td>575.09</td>\n",
       "      <td>96</td>\n",
       "      <td>120</td>\n",
       "      <td>NaN</td>\n",
       "      <td>NaN</td>\n",
       "    </tr>\n",
       "    <tr>\n",
       "      <th>610</th>\n",
       "      <td>0</td>\n",
       "      <td>-281933683550746337</td>\n",
       "      <td>2016-02-04T04:30:51.960Z</td>\n",
       "      <td>NaN</td>\n",
       "      <td>1</td>\n",
       "      <td>0</td>\n",
       "      <td>503.49</td>\n",
       "      <td>88</td>\n",
       "      <td>8452</td>\n",
       "      <td>-6639690782514669126</td>\n",
       "      <td>575.09</td>\n",
       "      <td>96</td>\n",
       "      <td>120</td>\n",
       "      <td>NaN</td>\n",
       "      <td>NaN</td>\n",
       "    </tr>\n",
       "    <tr>\n",
       "      <th>5067</th>\n",
       "      <td>0</td>\n",
       "      <td>5537362123079696830</td>\n",
       "      <td>2016-02-04T04:38:26.118Z</td>\n",
       "      <td>NaN</td>\n",
       "      <td>1</td>\n",
       "      <td>0</td>\n",
       "      <td>258.04</td>\n",
       "      <td>88</td>\n",
       "      <td>8452</td>\n",
       "      <td>-6639690782514669126</td>\n",
       "      <td>445.65</td>\n",
       "      <td>96</td>\n",
       "      <td>120</td>\n",
       "      <td>NaN</td>\n",
       "      <td>NaN</td>\n",
       "    </tr>\n",
       "  </tbody>\n",
       "</table>\n",
       "</div>"
      ],
      "text/plain": [
       "     IsWinner            ProductId         TimeOfOfferChange ConditionNotes  \\\n",
       "1343        0   229338471365409007  2016-02-04T04:31:42.793Z            NaN   \n",
       "7392        0   229338471365409007  2016-02-04T04:56:20.610Z            NaN   \n",
       "5775        0  -281933683550746337  2016-02-04T04:38:39.530Z            NaN   \n",
       "610         0  -281933683550746337  2016-02-04T04:30:51.960Z            NaN   \n",
       "5067        0  5537362123079696830  2016-02-04T04:38:26.118Z            NaN   \n",
       "\n",
       "     IsFeaturedMerchant IsFulfilledByAmazon  ListingPrice  \\\n",
       "1343                  1                   0        679.80   \n",
       "7392                  1                   0        679.80   \n",
       "5775                  1                   0        503.49   \n",
       "610                   1                   0        503.49   \n",
       "5067                  1                   0        258.04   \n",
       "\n",
       "      SellerFeedbackRating  SellerFeedbackCount             SellerId  \\\n",
       "1343                    88                 8452 -6639690782514669126   \n",
       "7392                    88                 8452 -6639690782514669126   \n",
       "5775                    88                 8452 -6639690782514669126   \n",
       "610                     88                 8452 -6639690782514669126   \n",
       "5067                    88                 8452 -6639690782514669126   \n",
       "\n",
       "      ShippingPrice  ShippingTime_minHours  ShippingTime_maxHours  \\\n",
       "1343         705.27                     96                    120   \n",
       "7392         705.27                     96                    120   \n",
       "5775         575.09                     96                    120   \n",
       "610          575.09                     96                    120   \n",
       "5067         445.65                     96                    120   \n",
       "\n",
       "     ShipsFromCountry ShipsFromState  \n",
       "1343              NaN            NaN  \n",
       "7392              NaN            NaN  \n",
       "5775              NaN            NaN  \n",
       "610               NaN            NaN  \n",
       "5067              NaN            NaN  "
      ]
     },
     "execution_count": 181,
     "metadata": {},
     "output_type": "execute_result"
    }
   ],
   "source": [
    "# Find out the 5 highest ShipppingPrice\n",
    "df.sort_values(by='ShippingPrice', axis=0, ascending=False, inplace=False, kind='quicksort', na_position='last').head(5)"
   ]
  },
  {
   "cell_type": "code",
   "execution_count": 182,
   "metadata": {
    "collapsed": false
   },
   "outputs": [
    {
     "data": {
      "text/html": [
       "<div>\n",
       "<table border=\"1\" class=\"dataframe\">\n",
       "  <thead>\n",
       "    <tr style=\"text-align: right;\">\n",
       "      <th></th>\n",
       "      <th>IsWinner</th>\n",
       "      <th>ProductId</th>\n",
       "      <th>TimeOfOfferChange</th>\n",
       "      <th>ConditionNotes</th>\n",
       "      <th>IsFeaturedMerchant</th>\n",
       "      <th>IsFulfilledByAmazon</th>\n",
       "      <th>ListingPrice</th>\n",
       "      <th>SellerFeedbackRating</th>\n",
       "      <th>SellerFeedbackCount</th>\n",
       "      <th>SellerId</th>\n",
       "      <th>ShippingPrice</th>\n",
       "      <th>ShippingTime_minHours</th>\n",
       "      <th>ShippingTime_maxHours</th>\n",
       "      <th>ShipsFromCountry</th>\n",
       "      <th>ShipsFromState</th>\n",
       "    </tr>\n",
       "  </thead>\n",
       "  <tbody>\n",
       "    <tr>\n",
       "      <th>29</th>\n",
       "      <td>0</td>\n",
       "      <td>-6219878023547990916</td>\n",
       "      <td>2016-02-04T04:27:21.627Z</td>\n",
       "      <td>NaN</td>\n",
       "      <td>1</td>\n",
       "      <td>0</td>\n",
       "      <td>102.71</td>\n",
       "      <td>88</td>\n",
       "      <td>8452</td>\n",
       "      <td>-6639690782514669126</td>\n",
       "      <td>13.19</td>\n",
       "      <td>96</td>\n",
       "      <td>120</td>\n",
       "      <td>NaN</td>\n",
       "      <td>NaN</td>\n",
       "    </tr>\n",
       "    <tr>\n",
       "      <th>47</th>\n",
       "      <td>0</td>\n",
       "      <td>-2406396100216511638</td>\n",
       "      <td>2016-02-04T04:29:07.495Z</td>\n",
       "      <td>NaN</td>\n",
       "      <td>1</td>\n",
       "      <td>0</td>\n",
       "      <td>81.26</td>\n",
       "      <td>88</td>\n",
       "      <td>8452</td>\n",
       "      <td>-6639690782514669126</td>\n",
       "      <td>13.94</td>\n",
       "      <td>96</td>\n",
       "      <td>120</td>\n",
       "      <td>NaN</td>\n",
       "      <td>NaN</td>\n",
       "    </tr>\n",
       "    <tr>\n",
       "      <th>73</th>\n",
       "      <td>0</td>\n",
       "      <td>-9131643267408786185</td>\n",
       "      <td>2016-02-04T04:29:11.671Z</td>\n",
       "      <td>NaN</td>\n",
       "      <td>1</td>\n",
       "      <td>0</td>\n",
       "      <td>122.90</td>\n",
       "      <td>88</td>\n",
       "      <td>8452</td>\n",
       "      <td>-6639690782514669126</td>\n",
       "      <td>13.94</td>\n",
       "      <td>96</td>\n",
       "      <td>120</td>\n",
       "      <td>NaN</td>\n",
       "      <td>NaN</td>\n",
       "    </tr>\n",
       "    <tr>\n",
       "      <th>86</th>\n",
       "      <td>0</td>\n",
       "      <td>-5701463121023377686</td>\n",
       "      <td>2016-02-04T04:30:06.510Z</td>\n",
       "      <td>NaN</td>\n",
       "      <td>1</td>\n",
       "      <td>0</td>\n",
       "      <td>67.60</td>\n",
       "      <td>88</td>\n",
       "      <td>8452</td>\n",
       "      <td>-6639690782514669126</td>\n",
       "      <td>26.66</td>\n",
       "      <td>96</td>\n",
       "      <td>120</td>\n",
       "      <td>NaN</td>\n",
       "      <td>NaN</td>\n",
       "    </tr>\n",
       "    <tr>\n",
       "      <th>112</th>\n",
       "      <td>0</td>\n",
       "      <td>-7405035237453204588</td>\n",
       "      <td>2016-02-04T04:30:05.605Z</td>\n",
       "      <td>NaN</td>\n",
       "      <td>1</td>\n",
       "      <td>0</td>\n",
       "      <td>14.28</td>\n",
       "      <td>88</td>\n",
       "      <td>8452</td>\n",
       "      <td>-6639690782514669126</td>\n",
       "      <td>9.90</td>\n",
       "      <td>24</td>\n",
       "      <td>48</td>\n",
       "      <td>NaN</td>\n",
       "      <td>NaN</td>\n",
       "    </tr>\n",
       "  </tbody>\n",
       "</table>\n",
       "</div>"
      ],
      "text/plain": [
       "    IsWinner            ProductId         TimeOfOfferChange ConditionNotes  \\\n",
       "29         0 -6219878023547990916  2016-02-04T04:27:21.627Z            NaN   \n",
       "47         0 -2406396100216511638  2016-02-04T04:29:07.495Z            NaN   \n",
       "73         0 -9131643267408786185  2016-02-04T04:29:11.671Z            NaN   \n",
       "86         0 -5701463121023377686  2016-02-04T04:30:06.510Z            NaN   \n",
       "112        0 -7405035237453204588  2016-02-04T04:30:05.605Z            NaN   \n",
       "\n",
       "    IsFeaturedMerchant IsFulfilledByAmazon  ListingPrice  \\\n",
       "29                   1                   0        102.71   \n",
       "47                   1                   0         81.26   \n",
       "73                   1                   0        122.90   \n",
       "86                   1                   0         67.60   \n",
       "112                  1                   0         14.28   \n",
       "\n",
       "     SellerFeedbackRating  SellerFeedbackCount             SellerId  \\\n",
       "29                     88                 8452 -6639690782514669126   \n",
       "47                     88                 8452 -6639690782514669126   \n",
       "73                     88                 8452 -6639690782514669126   \n",
       "86                     88                 8452 -6639690782514669126   \n",
       "112                    88                 8452 -6639690782514669126   \n",
       "\n",
       "     ShippingPrice  ShippingTime_minHours  ShippingTime_maxHours  \\\n",
       "29           13.19                     96                    120   \n",
       "47           13.94                     96                    120   \n",
       "73           13.94                     96                    120   \n",
       "86           26.66                     96                    120   \n",
       "112           9.90                     24                     48   \n",
       "\n",
       "    ShipsFromCountry ShipsFromState  \n",
       "29               NaN            NaN  \n",
       "47               NaN            NaN  \n",
       "73               NaN            NaN  \n",
       "86               NaN            NaN  \n",
       "112              NaN            NaN  "
      ]
     },
     "execution_count": 182,
     "metadata": {},
     "output_type": "execute_result"
    }
   ],
   "source": [
    "df_O4 = df.loc[df['SellerId'] == -6639690782514669126]\n",
    "df_O4.head(5)"
   ]
  },
  {
   "cell_type": "code",
   "execution_count": 183,
   "metadata": {
    "collapsed": false,
    "scrolled": true
   },
   "outputs": [
    {
     "data": {
      "text/plain": [
       "<matplotlib.axes._subplots.AxesSubplot at 0x11f865e10>"
      ]
     },
     "execution_count": 183,
     "metadata": {},
     "output_type": "execute_result"
    },
    {
     "data": {
      "image/png": "[encoded data removed]",
      "text/plain": [
       "<matplotlib.figure.Figure at 0x11b37c080>"
      ]
     },
     "metadata": {},
     "output_type": "display_data"
    }
   ],
   "source": [
    "df_O4['ShippingPrice'].plot(kind='hist')"
   ]
  },
  {
   "cell_type": "markdown",
   "metadata": {},
   "source": [
    "### Conclusion - ShippingPrice\n",
    "One seller (Id -6639690782514669126) is associated with the top 5 outliers in shipping price. Generally, the shipping price of a product is only a fraction of the list price(say 5% to 10%), but in the case of these outliers, the shipping price is very near, and sometimes greater than the list price. It is probable that these outliers are incorrect.\n",
    "\n",
    "### Outliers - SellerFeedbackRating"
   ]
  },
  {
   "cell_type": "code",
   "execution_count": 184,
   "metadata": {
    "collapsed": false
   },
   "outputs": [
    {
     "data": {
      "text/html": [
       "<div>\n",
       "<table border=\"1\" class=\"dataframe\">\n",
       "  <thead>\n",
       "    <tr style=\"text-align: right;\">\n",
       "      <th></th>\n",
       "      <th>IsWinner</th>\n",
       "      <th>ProductId</th>\n",
       "      <th>TimeOfOfferChange</th>\n",
       "      <th>ConditionNotes</th>\n",
       "      <th>IsFeaturedMerchant</th>\n",
       "      <th>IsFulfilledByAmazon</th>\n",
       "      <th>ListingPrice</th>\n",
       "      <th>SellerFeedbackRating</th>\n",
       "      <th>SellerFeedbackCount</th>\n",
       "      <th>SellerId</th>\n",
       "      <th>ShippingPrice</th>\n",
       "      <th>ShippingTime_minHours</th>\n",
       "      <th>ShippingTime_maxHours</th>\n",
       "      <th>ShipsFromCountry</th>\n",
       "      <th>ShipsFromState</th>\n",
       "    </tr>\n",
       "  </thead>\n",
       "  <tbody>\n",
       "    <tr>\n",
       "      <th>4465</th>\n",
       "      <td>0</td>\n",
       "      <td>-6987409544462956993</td>\n",
       "      <td>2016-02-04T04:34:45.091Z</td>\n",
       "      <td>Can not ship order to PO boxes or remote areas...</td>\n",
       "      <td>1</td>\n",
       "      <td>0</td>\n",
       "      <td>179.14</td>\n",
       "      <td>100</td>\n",
       "      <td>384</td>\n",
       "      <td>4987276067789979672</td>\n",
       "      <td>17.90</td>\n",
       "      <td>24</td>\n",
       "      <td>48</td>\n",
       "      <td>CA</td>\n",
       "      <td>ON</td>\n",
       "    </tr>\n",
       "    <tr>\n",
       "      <th>847</th>\n",
       "      <td>0</td>\n",
       "      <td>-948779765034601715</td>\n",
       "      <td>2016-02-04T04:31:19.832Z</td>\n",
       "      <td>*Free shipping from Canada / Livraison GRATUIT...</td>\n",
       "      <td>1</td>\n",
       "      <td>0</td>\n",
       "      <td>778.49</td>\n",
       "      <td>100</td>\n",
       "      <td>4601</td>\n",
       "      <td>5657218934756058127</td>\n",
       "      <td>0.00</td>\n",
       "      <td>24</td>\n",
       "      <td>48</td>\n",
       "      <td>CA</td>\n",
       "      <td>ON</td>\n",
       "    </tr>\n",
       "    <tr>\n",
       "      <th>2468</th>\n",
       "      <td>0</td>\n",
       "      <td>2331308440699116991</td>\n",
       "      <td>2016-02-04T04:32:21.260Z</td>\n",
       "      <td>Your authorized reseller for Microsoft, Adobe,...</td>\n",
       "      <td>0</td>\n",
       "      <td>0</td>\n",
       "      <td>539.76</td>\n",
       "      <td>100</td>\n",
       "      <td>88</td>\n",
       "      <td>-5258359040471270597</td>\n",
       "      <td>62.43</td>\n",
       "      <td>24</td>\n",
       "      <td>48</td>\n",
       "      <td>US</td>\n",
       "      <td>DE</td>\n",
       "    </tr>\n",
       "    <tr>\n",
       "      <th>2977</th>\n",
       "      <td>0</td>\n",
       "      <td>1531586371501966694</td>\n",
       "      <td>2016-02-04T04:33:24.872Z</td>\n",
       "      <td>Can not ship order to PO boxes or remote areas...</td>\n",
       "      <td>1</td>\n",
       "      <td>0</td>\n",
       "      <td>74.15</td>\n",
       "      <td>100</td>\n",
       "      <td>384</td>\n",
       "      <td>4987276067789979672</td>\n",
       "      <td>16.99</td>\n",
       "      <td>24</td>\n",
       "      <td>48</td>\n",
       "      <td>CA</td>\n",
       "      <td>ON</td>\n",
       "    </tr>\n",
       "    <tr>\n",
       "      <th>7124</th>\n",
       "      <td>0</td>\n",
       "      <td>-8796291674889166687</td>\n",
       "      <td>2016-02-04T04:55:49.776Z</td>\n",
       "      <td>*Free shipping from Canada / Livraison GRATUIT...</td>\n",
       "      <td>1</td>\n",
       "      <td>0</td>\n",
       "      <td>117.90</td>\n",
       "      <td>100</td>\n",
       "      <td>4601</td>\n",
       "      <td>5657218934756058127</td>\n",
       "      <td>0.00</td>\n",
       "      <td>24</td>\n",
       "      <td>48</td>\n",
       "      <td>CA</td>\n",
       "      <td>ON</td>\n",
       "    </tr>\n",
       "  </tbody>\n",
       "</table>\n",
       "</div>"
      ],
      "text/plain": [
       "     IsWinner            ProductId         TimeOfOfferChange  \\\n",
       "4465        0 -6987409544462956993  2016-02-04T04:34:45.091Z   \n",
       "847         0  -948779765034601715  2016-02-04T04:31:19.832Z   \n",
       "2468        0  2331308440699116991  2016-02-04T04:32:21.260Z   \n",
       "2977        0  1531586371501966694  2016-02-04T04:33:24.872Z   \n",
       "7124        0 -8796291674889166687  2016-02-04T04:55:49.776Z   \n",
       "\n",
       "                                         ConditionNotes IsFeaturedMerchant  \\\n",
       "4465  Can not ship order to PO boxes or remote areas...                  1   \n",
       "847   *Free shipping from Canada / Livraison GRATUIT...                  1   \n",
       "2468  Your authorized reseller for Microsoft, Adobe,...                  0   \n",
       "2977  Can not ship order to PO boxes or remote areas...                  1   \n",
       "7124  *Free shipping from Canada / Livraison GRATUIT...                  1   \n",
       "\n",
       "     IsFulfilledByAmazon  ListingPrice  SellerFeedbackRating  \\\n",
       "4465                   0        179.14                   100   \n",
       "847                    0        778.49                   100   \n",
       "2468                   0        539.76                   100   \n",
       "2977                   0         74.15                   100   \n",
       "7124                   0        117.90                   100   \n",
       "\n",
       "      SellerFeedbackCount             SellerId  ShippingPrice  \\\n",
       "4465                  384  4987276067789979672          17.90   \n",
       "847                  4601  5657218934756058127           0.00   \n",
       "2468                   88 -5258359040471270597          62.43   \n",
       "2977                  384  4987276067789979672          16.99   \n",
       "7124                 4601  5657218934756058127           0.00   \n",
       "\n",
       "      ShippingTime_minHours  ShippingTime_maxHours ShipsFromCountry  \\\n",
       "4465                     24                     48               CA   \n",
       "847                      24                     48               CA   \n",
       "2468                     24                     48               US   \n",
       "2977                     24                     48               CA   \n",
       "7124                     24                     48               CA   \n",
       "\n",
       "     ShipsFromState  \n",
       "4465             ON  \n",
       "847              ON  \n",
       "2468             DE  \n",
       "2977             ON  \n",
       "7124             ON  "
      ]
     },
     "execution_count": 184,
     "metadata": {},
     "output_type": "execute_result"
    }
   ],
   "source": [
    "# Find out the 5 highest SellerFeedbackRating\n",
    "df.sort_values(by='SellerFeedbackRating', axis=0, ascending=False, inplace=False, kind='quicksort', na_position='last').head(5)"
   ]
  },
  {
   "cell_type": "markdown",
   "metadata": {},
   "source": [
    "### Conclusion - SellerFeedbackRating\n",
    "There are 3 sellers and 5 different products associated with these outliers.\n",
    "It is difficult to draw any conclusions here without additional analysis.\n",
    "\n",
    "### Outliers - SellerFeedbackCount"
   ]
  },
  {
   "cell_type": "code",
   "execution_count": 185,
   "metadata": {
    "collapsed": false,
    "scrolled": false
   },
   "outputs": [
    {
     "data": {
      "text/html": [
       "<div>\n",
       "<table border=\"1\" class=\"dataframe\">\n",
       "  <thead>\n",
       "    <tr style=\"text-align: right;\">\n",
       "      <th></th>\n",
       "      <th>IsWinner</th>\n",
       "      <th>ProductId</th>\n",
       "      <th>TimeOfOfferChange</th>\n",
       "      <th>ConditionNotes</th>\n",
       "      <th>IsFeaturedMerchant</th>\n",
       "      <th>IsFulfilledByAmazon</th>\n",
       "      <th>ListingPrice</th>\n",
       "      <th>SellerFeedbackRating</th>\n",
       "      <th>SellerFeedbackCount</th>\n",
       "      <th>SellerId</th>\n",
       "      <th>ShippingPrice</th>\n",
       "      <th>ShippingTime_minHours</th>\n",
       "      <th>ShippingTime_maxHours</th>\n",
       "      <th>ShipsFromCountry</th>\n",
       "      <th>ShipsFromState</th>\n",
       "    </tr>\n",
       "  </thead>\n",
       "  <tbody>\n",
       "    <tr>\n",
       "      <th>2466</th>\n",
       "      <td>0</td>\n",
       "      <td>-5545190337175589068</td>\n",
       "      <td>2016-02-04T04:32:19.017Z</td>\n",
       "      <td>NaN</td>\n",
       "      <td>1</td>\n",
       "      <td>0</td>\n",
       "      <td>39.91</td>\n",
       "      <td>96</td>\n",
       "      <td>41420</td>\n",
       "      <td>9012427554787096099</td>\n",
       "      <td>12.0</td>\n",
       "      <td>24</td>\n",
       "      <td>48</td>\n",
       "      <td>NaN</td>\n",
       "      <td>NaN</td>\n",
       "    </tr>\n",
       "    <tr>\n",
       "      <th>8981</th>\n",
       "      <td>0</td>\n",
       "      <td>3864781223791788768</td>\n",
       "      <td>2016-02-04T05:26:15.632Z</td>\n",
       "      <td>NaN</td>\n",
       "      <td>1</td>\n",
       "      <td>0</td>\n",
       "      <td>43.71</td>\n",
       "      <td>96</td>\n",
       "      <td>41420</td>\n",
       "      <td>9012427554787096099</td>\n",
       "      <td>6.0</td>\n",
       "      <td>24</td>\n",
       "      <td>48</td>\n",
       "      <td>NaN</td>\n",
       "      <td>NaN</td>\n",
       "    </tr>\n",
       "    <tr>\n",
       "      <th>9834</th>\n",
       "      <td>0</td>\n",
       "      <td>-353902426769369969</td>\n",
       "      <td>2016-02-04T05:41:07.145Z</td>\n",
       "      <td>NaN</td>\n",
       "      <td>1</td>\n",
       "      <td>0</td>\n",
       "      <td>137.21</td>\n",
       "      <td>96</td>\n",
       "      <td>41420</td>\n",
       "      <td>9012427554787096099</td>\n",
       "      <td>8.0</td>\n",
       "      <td>96</td>\n",
       "      <td>120</td>\n",
       "      <td>NaN</td>\n",
       "      <td>NaN</td>\n",
       "    </tr>\n",
       "    <tr>\n",
       "      <th>6147</th>\n",
       "      <td>0</td>\n",
       "      <td>-1203282458825787586</td>\n",
       "      <td>2016-02-04T04:55:59.174Z</td>\n",
       "      <td>Ships from Canada. Not additional duties, no c...</td>\n",
       "      <td>1</td>\n",
       "      <td>0</td>\n",
       "      <td>92.42</td>\n",
       "      <td>96</td>\n",
       "      <td>41420</td>\n",
       "      <td>9012427554787096099</td>\n",
       "      <td>7.0</td>\n",
       "      <td>24</td>\n",
       "      <td>48</td>\n",
       "      <td>NaN</td>\n",
       "      <td>NaN</td>\n",
       "    </tr>\n",
       "    <tr>\n",
       "      <th>1984</th>\n",
       "      <td>0</td>\n",
       "      <td>-6519688935575603899</td>\n",
       "      <td>2016-02-04T04:31:54.801Z</td>\n",
       "      <td>Ships from Canada. Not additional duties, no c...</td>\n",
       "      <td>1</td>\n",
       "      <td>0</td>\n",
       "      <td>183.16</td>\n",
       "      <td>96</td>\n",
       "      <td>41420</td>\n",
       "      <td>9012427554787096099</td>\n",
       "      <td>19.3</td>\n",
       "      <td>96</td>\n",
       "      <td>120</td>\n",
       "      <td>NaN</td>\n",
       "      <td>NaN</td>\n",
       "    </tr>\n",
       "  </tbody>\n",
       "</table>\n",
       "</div>"
      ],
      "text/plain": [
       "     IsWinner            ProductId         TimeOfOfferChange  \\\n",
       "2466        0 -5545190337175589068  2016-02-04T04:32:19.017Z   \n",
       "8981        0  3864781223791788768  2016-02-04T05:26:15.632Z   \n",
       "9834        0  -353902426769369969  2016-02-04T05:41:07.145Z   \n",
       "6147        0 -1203282458825787586  2016-02-04T04:55:59.174Z   \n",
       "1984        0 -6519688935575603899  2016-02-04T04:31:54.801Z   \n",
       "\n",
       "                                         ConditionNotes IsFeaturedMerchant  \\\n",
       "2466                                                NaN                  1   \n",
       "8981                                                NaN                  1   \n",
       "9834                                                NaN                  1   \n",
       "6147  Ships from Canada. Not additional duties, no c...                  1   \n",
       "1984  Ships from Canada. Not additional duties, no c...                  1   \n",
       "\n",
       "     IsFulfilledByAmazon  ListingPrice  SellerFeedbackRating  \\\n",
       "2466                   0         39.91                    96   \n",
       "8981                   0         43.71                    96   \n",
       "9834                   0        137.21                    96   \n",
       "6147                   0         92.42                    96   \n",
       "1984                   0        183.16                    96   \n",
       "\n",
       "      SellerFeedbackCount             SellerId  ShippingPrice  \\\n",
       "2466                41420  9012427554787096099           12.0   \n",
       "8981                41420  9012427554787096099            6.0   \n",
       "9834                41420  9012427554787096099            8.0   \n",
       "6147                41420  9012427554787096099            7.0   \n",
       "1984                41420  9012427554787096099           19.3   \n",
       "\n",
       "      ShippingTime_minHours  ShippingTime_maxHours ShipsFromCountry  \\\n",
       "2466                     24                     48              NaN   \n",
       "8981                     24                     48              NaN   \n",
       "9834                     96                    120              NaN   \n",
       "6147                     24                     48              NaN   \n",
       "1984                     96                    120              NaN   \n",
       "\n",
       "     ShipsFromState  \n",
       "2466            NaN  \n",
       "8981            NaN  \n",
       "9834            NaN  \n",
       "6147            NaN  \n",
       "1984            NaN  "
      ]
     },
     "execution_count": 185,
     "metadata": {},
     "output_type": "execute_result"
    }
   ],
   "source": [
    "# Find out the 5 highest SellerFeedbackCount\n",
    "df.sort_values(by='SellerFeedbackCount', axis=0, ascending=False, inplace=False, kind='quicksort', na_position='last').head(5)"
   ]
  },
  {
   "cell_type": "markdown",
   "metadata": {},
   "source": [
    "### Conclusion - SellerFeedbackCount\n",
    "There 1 seller and 5 different products associated with these outliers.\n",
    "It is difficult to draw any conclusions here without additional analysis.\n",
    "\n",
    "### Outliers - ShippingTime_minHours and ShippingTime_maxHours"
   ]
  },
  {
   "cell_type": "code",
   "execution_count": 186,
   "metadata": {
    "collapsed": false,
    "scrolled": true
   },
   "outputs": [
    {
     "data": {
      "text/html": [
       "<div>\n",
       "<table border=\"1\" class=\"dataframe\">\n",
       "  <thead>\n",
       "    <tr style=\"text-align: right;\">\n",
       "      <th></th>\n",
       "      <th>IsWinner</th>\n",
       "      <th>ProductId</th>\n",
       "      <th>TimeOfOfferChange</th>\n",
       "      <th>ConditionNotes</th>\n",
       "      <th>IsFeaturedMerchant</th>\n",
       "      <th>IsFulfilledByAmazon</th>\n",
       "      <th>ListingPrice</th>\n",
       "      <th>SellerFeedbackRating</th>\n",
       "      <th>SellerFeedbackCount</th>\n",
       "      <th>SellerId</th>\n",
       "      <th>ShippingPrice</th>\n",
       "      <th>ShippingTime_minHours</th>\n",
       "      <th>ShippingTime_maxHours</th>\n",
       "      <th>ShipsFromCountry</th>\n",
       "      <th>ShipsFromState</th>\n",
       "    </tr>\n",
       "  </thead>\n",
       "  <tbody>\n",
       "    <tr>\n",
       "      <th>0</th>\n",
       "      <td>0</td>\n",
       "      <td>-4885255916155087854</td>\n",
       "      <td>2016-02-04T04:26:52.136Z</td>\n",
       "      <td>NaN</td>\n",
       "      <td>1</td>\n",
       "      <td>1</td>\n",
       "      <td>94.00</td>\n",
       "      <td>0</td>\n",
       "      <td>0</td>\n",
       "      <td>1207135739277432339</td>\n",
       "      <td>0.0</td>\n",
       "      <td>672</td>\n",
       "      <td>1008</td>\n",
       "      <td>NaN</td>\n",
       "      <td>NaN</td>\n",
       "    </tr>\n",
       "    <tr>\n",
       "      <th>9524</th>\n",
       "      <td>0</td>\n",
       "      <td>7453706059544427211</td>\n",
       "      <td>2016-02-04T05:36:27.938Z</td>\n",
       "      <td>NaN</td>\n",
       "      <td>1</td>\n",
       "      <td>1</td>\n",
       "      <td>367.25</td>\n",
       "      <td>0</td>\n",
       "      <td>0</td>\n",
       "      <td>1207135739277432339</td>\n",
       "      <td>0.0</td>\n",
       "      <td>672</td>\n",
       "      <td>1008</td>\n",
       "      <td>NaN</td>\n",
       "      <td>NaN</td>\n",
       "    </tr>\n",
       "    <tr>\n",
       "      <th>396</th>\n",
       "      <td>0</td>\n",
       "      <td>7049326277407521616</td>\n",
       "      <td>2016-02-04T04:30:31.163Z</td>\n",
       "      <td>NaN</td>\n",
       "      <td>1</td>\n",
       "      <td>1</td>\n",
       "      <td>32.99</td>\n",
       "      <td>0</td>\n",
       "      <td>0</td>\n",
       "      <td>1207135739277432339</td>\n",
       "      <td>0.0</td>\n",
       "      <td>672</td>\n",
       "      <td>1008</td>\n",
       "      <td>NaN</td>\n",
       "      <td>NaN</td>\n",
       "    </tr>\n",
       "    <tr>\n",
       "      <th>7669</th>\n",
       "      <td>0</td>\n",
       "      <td>24775697167724061</td>\n",
       "      <td>2016-02-04T04:58:10.526Z</td>\n",
       "      <td>NaN</td>\n",
       "      <td>1</td>\n",
       "      <td>1</td>\n",
       "      <td>469.32</td>\n",
       "      <td>0</td>\n",
       "      <td>0</td>\n",
       "      <td>1207135739277432339</td>\n",
       "      <td>0.0</td>\n",
       "      <td>672</td>\n",
       "      <td>1008</td>\n",
       "      <td>NaN</td>\n",
       "      <td>NaN</td>\n",
       "    </tr>\n",
       "    <tr>\n",
       "      <th>6455</th>\n",
       "      <td>0</td>\n",
       "      <td>7106195985037851238</td>\n",
       "      <td>2016-02-04T04:55:50.631Z</td>\n",
       "      <td>NaN</td>\n",
       "      <td>1</td>\n",
       "      <td>1</td>\n",
       "      <td>233.23</td>\n",
       "      <td>0</td>\n",
       "      <td>0</td>\n",
       "      <td>1207135739277432339</td>\n",
       "      <td>0.0</td>\n",
       "      <td>672</td>\n",
       "      <td>1008</td>\n",
       "      <td>NaN</td>\n",
       "      <td>NaN</td>\n",
       "    </tr>\n",
       "  </tbody>\n",
       "</table>\n",
       "</div>"
      ],
      "text/plain": [
       "     IsWinner            ProductId         TimeOfOfferChange ConditionNotes  \\\n",
       "0           0 -4885255916155087854  2016-02-04T04:26:52.136Z            NaN   \n",
       "9524        0  7453706059544427211  2016-02-04T05:36:27.938Z            NaN   \n",
       "396         0  7049326277407521616  2016-02-04T04:30:31.163Z            NaN   \n",
       "7669        0    24775697167724061  2016-02-04T04:58:10.526Z            NaN   \n",
       "6455        0  7106195985037851238  2016-02-04T04:55:50.631Z            NaN   \n",
       "\n",
       "     IsFeaturedMerchant IsFulfilledByAmazon  ListingPrice  \\\n",
       "0                     1                   1         94.00   \n",
       "9524                  1                   1        367.25   \n",
       "396                   1                   1         32.99   \n",
       "7669                  1                   1        469.32   \n",
       "6455                  1                   1        233.23   \n",
       "\n",
       "      SellerFeedbackRating  SellerFeedbackCount             SellerId  \\\n",
       "0                        0                    0  1207135739277432339   \n",
       "9524                     0                    0  1207135739277432339   \n",
       "396                      0                    0  1207135739277432339   \n",
       "7669                     0                    0  1207135739277432339   \n",
       "6455                     0                    0  1207135739277432339   \n",
       "\n",
       "      ShippingPrice  ShippingTime_minHours  ShippingTime_maxHours  \\\n",
       "0               0.0                    672                   1008   \n",
       "9524            0.0                    672                   1008   \n",
       "396             0.0                    672                   1008   \n",
       "7669            0.0                    672                   1008   \n",
       "6455            0.0                    672                   1008   \n",
       "\n",
       "     ShipsFromCountry ShipsFromState  \n",
       "0                 NaN            NaN  \n",
       "9524              NaN            NaN  \n",
       "396               NaN            NaN  \n",
       "7669              NaN            NaN  \n",
       "6455              NaN            NaN  "
      ]
     },
     "execution_count": 186,
     "metadata": {},
     "output_type": "execute_result"
    }
   ],
   "source": [
    "# Find out the 5 highest ShippingTime_minHours\n",
    "df.sort_values(by='ShippingTime_minHours', axis=0, ascending=False, inplace=False, kind='quicksort', na_position='last').head(5)"
   ]
  },
  {
   "cell_type": "code",
   "execution_count": 187,
   "metadata": {
    "collapsed": false,
    "scrolled": false
   },
   "outputs": [
    {
     "data": {
      "text/html": [
       "<div>\n",
       "<table border=\"1\" class=\"dataframe\">\n",
       "  <thead>\n",
       "    <tr style=\"text-align: right;\">\n",
       "      <th></th>\n",
       "      <th>IsWinner</th>\n",
       "      <th>ProductId</th>\n",
       "      <th>TimeOfOfferChange</th>\n",
       "      <th>ConditionNotes</th>\n",
       "      <th>IsFeaturedMerchant</th>\n",
       "      <th>IsFulfilledByAmazon</th>\n",
       "      <th>ListingPrice</th>\n",
       "      <th>SellerFeedbackRating</th>\n",
       "      <th>SellerFeedbackCount</th>\n",
       "      <th>SellerId</th>\n",
       "      <th>ShippingPrice</th>\n",
       "      <th>ShippingTime_minHours</th>\n",
       "      <th>ShippingTime_maxHours</th>\n",
       "      <th>ShipsFromCountry</th>\n",
       "      <th>ShipsFromState</th>\n",
       "    </tr>\n",
       "  </thead>\n",
       "  <tbody>\n",
       "    <tr>\n",
       "      <th>0</th>\n",
       "      <td>0</td>\n",
       "      <td>-4885255916155087854</td>\n",
       "      <td>2016-02-04T04:26:52.136Z</td>\n",
       "      <td>NaN</td>\n",
       "      <td>1</td>\n",
       "      <td>1</td>\n",
       "      <td>94.00</td>\n",
       "      <td>0</td>\n",
       "      <td>0</td>\n",
       "      <td>1207135739277432339</td>\n",
       "      <td>0.0</td>\n",
       "      <td>672</td>\n",
       "      <td>1008</td>\n",
       "      <td>NaN</td>\n",
       "      <td>NaN</td>\n",
       "    </tr>\n",
       "    <tr>\n",
       "      <th>9524</th>\n",
       "      <td>0</td>\n",
       "      <td>7453706059544427211</td>\n",
       "      <td>2016-02-04T05:36:27.938Z</td>\n",
       "      <td>NaN</td>\n",
       "      <td>1</td>\n",
       "      <td>1</td>\n",
       "      <td>367.25</td>\n",
       "      <td>0</td>\n",
       "      <td>0</td>\n",
       "      <td>1207135739277432339</td>\n",
       "      <td>0.0</td>\n",
       "      <td>672</td>\n",
       "      <td>1008</td>\n",
       "      <td>NaN</td>\n",
       "      <td>NaN</td>\n",
       "    </tr>\n",
       "    <tr>\n",
       "      <th>396</th>\n",
       "      <td>0</td>\n",
       "      <td>7049326277407521616</td>\n",
       "      <td>2016-02-04T04:30:31.163Z</td>\n",
       "      <td>NaN</td>\n",
       "      <td>1</td>\n",
       "      <td>1</td>\n",
       "      <td>32.99</td>\n",
       "      <td>0</td>\n",
       "      <td>0</td>\n",
       "      <td>1207135739277432339</td>\n",
       "      <td>0.0</td>\n",
       "      <td>672</td>\n",
       "      <td>1008</td>\n",
       "      <td>NaN</td>\n",
       "      <td>NaN</td>\n",
       "    </tr>\n",
       "    <tr>\n",
       "      <th>7669</th>\n",
       "      <td>0</td>\n",
       "      <td>24775697167724061</td>\n",
       "      <td>2016-02-04T04:58:10.526Z</td>\n",
       "      <td>NaN</td>\n",
       "      <td>1</td>\n",
       "      <td>1</td>\n",
       "      <td>469.32</td>\n",
       "      <td>0</td>\n",
       "      <td>0</td>\n",
       "      <td>1207135739277432339</td>\n",
       "      <td>0.0</td>\n",
       "      <td>672</td>\n",
       "      <td>1008</td>\n",
       "      <td>NaN</td>\n",
       "      <td>NaN</td>\n",
       "    </tr>\n",
       "    <tr>\n",
       "      <th>6455</th>\n",
       "      <td>0</td>\n",
       "      <td>7106195985037851238</td>\n",
       "      <td>2016-02-04T04:55:50.631Z</td>\n",
       "      <td>NaN</td>\n",
       "      <td>1</td>\n",
       "      <td>1</td>\n",
       "      <td>233.23</td>\n",
       "      <td>0</td>\n",
       "      <td>0</td>\n",
       "      <td>1207135739277432339</td>\n",
       "      <td>0.0</td>\n",
       "      <td>672</td>\n",
       "      <td>1008</td>\n",
       "      <td>NaN</td>\n",
       "      <td>NaN</td>\n",
       "    </tr>\n",
       "  </tbody>\n",
       "</table>\n",
       "</div>"
      ],
      "text/plain": [
       "     IsWinner            ProductId         TimeOfOfferChange ConditionNotes  \\\n",
       "0           0 -4885255916155087854  2016-02-04T04:26:52.136Z            NaN   \n",
       "9524        0  7453706059544427211  2016-02-04T05:36:27.938Z            NaN   \n",
       "396         0  7049326277407521616  2016-02-04T04:30:31.163Z            NaN   \n",
       "7669        0    24775697167724061  2016-02-04T04:58:10.526Z            NaN   \n",
       "6455        0  7106195985037851238  2016-02-04T04:55:50.631Z            NaN   \n",
       "\n",
       "     IsFeaturedMerchant IsFulfilledByAmazon  ListingPrice  \\\n",
       "0                     1                   1         94.00   \n",
       "9524                  1                   1        367.25   \n",
       "396                   1                   1         32.99   \n",
       "7669                  1                   1        469.32   \n",
       "6455                  1                   1        233.23   \n",
       "\n",
       "      SellerFeedbackRating  SellerFeedbackCount             SellerId  \\\n",
       "0                        0                    0  1207135739277432339   \n",
       "9524                     0                    0  1207135739277432339   \n",
       "396                      0                    0  1207135739277432339   \n",
       "7669                     0                    0  1207135739277432339   \n",
       "6455                     0                    0  1207135739277432339   \n",
       "\n",
       "      ShippingPrice  ShippingTime_minHours  ShippingTime_maxHours  \\\n",
       "0               0.0                    672                   1008   \n",
       "9524            0.0                    672                   1008   \n",
       "396             0.0                    672                   1008   \n",
       "7669            0.0                    672                   1008   \n",
       "6455            0.0                    672                   1008   \n",
       "\n",
       "     ShipsFromCountry ShipsFromState  \n",
       "0                 NaN            NaN  \n",
       "9524              NaN            NaN  \n",
       "396               NaN            NaN  \n",
       "7669              NaN            NaN  \n",
       "6455              NaN            NaN  "
      ]
     },
     "execution_count": 187,
     "metadata": {},
     "output_type": "execute_result"
    }
   ],
   "source": [
    "# Find out the 5 highest ShippingTime_maxHours\n",
    "df.sort_values(by='ShippingTime_maxHours', axis=0, ascending=False, inplace=False, kind='quicksort', na_position='last').head(5)"
   ]
  },
  {
   "cell_type": "markdown",
   "metadata": {},
   "source": [
    "### Conclusion - ShippingTime_minHours and ShippingTime_maxHours\n",
    "Outlier rows for ShippingTime_minHours and ShippingTime_maxHours are the same.\n",
    "Again, further analysis will be required to draw any conclusions.\n",
    "\n",
    "## Solutions\n",
    "\n",
    "#### Data Quality Plan\n",
    "\n",
    "| Feature                 | Data Quality Issue   | Handling Strategy            |\n",
    "|-------------------------|----------------------|------------------------------|\n",
    "| ConditionNotes          | Missing Values (47%) | Do nothing                   |\n",
    "| ShipsFromCountry        | Missing Values (37%) | Complete-case analysis       | \n",
    "| ShipsFromState          | Missing Values (41%) | Complete-case analysis       |\n",
    "| ListingPrice            | Outliers             | Drop rows                    |\n",
    "| SellerFeedbackRating    | Outliers             | Do nothing                   |\n",
    "| SellerFeedbackCount     | Outliers             | Do nothing                   |\n",
    "| ShippingPrice           | Outliers             | Drop rows                    |\n",
    "| ShippingTime_minHours   | Outliers             | Do nothing                   |\n",
    "| ShippingTime_maxHours   | Outliers             | Do nothing                   |\n",
    "\n",
    "ConditionNotes:\n",
    "47% of the dataset have null values for ConditionNotes. I am not removing the data from the set as I don't beleive it is a necessary field in very instance, therefore having null values here is not an issue.\n",
    "\n",
    "ShipsFromCountry and ShipsFromState:\n",
    "ShipsFromCountry and ShipsFromState have 37% and 41% null values respectively. I am leaving this data in, as I am not convinced at this stage if and how this information impacts 'IsWinner' target outcome. Further analysis may shed more light.\n",
    "\n",
    "ListingPrice and ShippingPrice:\n",
    "My analysis of outliers leads me to believe that ListingPrice and ShippingPrice outliers are incorrect data - perhaps due to error or data corruption of the csv file I am using. I am removing the outliers relating to both columns as I do not want this data to skew my later analysis. As explained in the Outliers section above, the majority of the prices falls within a narrow band, and these outliers look unrealistic in comparison.\n",
    "\n",
    "SellerFeedbackRating and SellerFeedbackCount:\n",
    "I think both SellerFeedbackRating and SellerFeedbackCount may be very relevant in the 'IsWinner' target outcome. I am not removing the outliers in both cases because I am interested to see whether there is a correlation between the data here and 'IsWinner'.\n",
    "\n",
    "ShippingTime_minHours and ShippingTime_maxHours:\n",
    "I am uncertain as to whether this information impacts the target outcome. I have decided to leave the outlier rows in until I can do some further analysis to understand whether or not there is a relationship here. \n"
   ]
  },
  {
   "cell_type": "markdown",
   "metadata": {},
   "source": [
    "## Apply your solutions to obtain a new CSV file where the data quality issues identified were addressed."
   ]
  },
  {
   "cell_type": "code",
   "execution_count": 188,
   "metadata": {
    "collapsed": true
   },
   "outputs": [],
   "source": [
    "# generating another dataframe called df_cleaned and applying changes to it\n",
    "# Dropping ListingPrice outliers:\n",
    "clean_df = df\n",
    "clean_df = clean_df.drop(clean_df.index[[9069,9069]])\n",
    "clean_df = clean_df.drop(clean_df.index[[6890,6890]])\n",
    "clean_df = clean_df.drop(clean_df.index[[4947,4947]])\n",
    "clean_df = clean_df.drop(clean_df.index[[152,152]])\n",
    "clean_df = clean_df.drop(clean_df.index[[4830,4830]])"
   ]
  },
  {
   "cell_type": "code",
   "execution_count": 189,
   "metadata": {
    "collapsed": true
   },
   "outputs": [],
   "source": [
    "# Dropping ShippingPrice outliers:\n",
    "clean_df = clean_df.drop(clean_df.index[[1343,1343]])\n",
    "clean_df = clean_df.drop(clean_df.index[[7392,7392]])\n",
    "clean_df = clean_df.drop(clean_df.index[[5775,5775]])\n",
    "clean_df = clean_df.drop(clean_df.index[[610,610]])\n",
    "clean_df = clean_df.drop(clean_df.index[[5067,5067]])"
   ]
  },
  {
   "cell_type": "code",
   "execution_count": 190,
   "metadata": {
    "collapsed": false
   },
   "outputs": [
    {
     "data": {
      "text/plain": [
       "(9876, 15)"
      ]
     },
     "execution_count": 190,
     "metadata": {},
     "output_type": "execute_result"
    }
   ],
   "source": [
    "# shape of new dataframe after outliers dropped per cells above.\n",
    "clean_df.shape"
   ]
  },
  {
   "cell_type": "code",
   "execution_count": 191,
   "metadata": {
    "collapsed": false
   },
   "outputs": [
    {
     "data": {
      "text/plain": [
       "(9886, 15)"
      ]
     },
     "execution_count": 191,
     "metadata": {},
     "output_type": "execute_result"
    }
   ],
   "source": [
    "# shape of original dataframe - no outliers dropped\n",
    "df.shape"
   ]
  },
  {
   "cell_type": "code",
   "execution_count": 192,
   "metadata": {
    "collapsed": false,
    "scrolled": true
   },
   "outputs": [
    {
     "data": {
      "text/html": [
       "<div>\n",
       "<table border=\"1\" class=\"dataframe\">\n",
       "  <thead>\n",
       "    <tr style=\"text-align: right;\">\n",
       "      <th></th>\n",
       "      <th>IsWinner</th>\n",
       "      <th>ProductId</th>\n",
       "      <th>TimeOfOfferChange</th>\n",
       "      <th>ConditionNotes</th>\n",
       "      <th>IsFeaturedMerchant</th>\n",
       "      <th>IsFulfilledByAmazon</th>\n",
       "      <th>ListingPrice</th>\n",
       "      <th>SellerFeedbackRating</th>\n",
       "      <th>SellerFeedbackCount</th>\n",
       "      <th>SellerId</th>\n",
       "      <th>ShippingPrice</th>\n",
       "      <th>ShippingTime_minHours</th>\n",
       "      <th>ShippingTime_maxHours</th>\n",
       "      <th>ShipsFromCountry</th>\n",
       "      <th>ShipsFromState</th>\n",
       "    </tr>\n",
       "  </thead>\n",
       "  <tbody>\n",
       "    <tr>\n",
       "      <th>0</th>\n",
       "      <td>0</td>\n",
       "      <td>-4885255916155087854</td>\n",
       "      <td>2016-02-04T04:26:52.136Z</td>\n",
       "      <td>NaN</td>\n",
       "      <td>1</td>\n",
       "      <td>1</td>\n",
       "      <td>94.00</td>\n",
       "      <td>0</td>\n",
       "      <td>0</td>\n",
       "      <td>1207135739277432339</td>\n",
       "      <td>0.00</td>\n",
       "      <td>672</td>\n",
       "      <td>1008</td>\n",
       "      <td>NaN</td>\n",
       "      <td>NaN</td>\n",
       "    </tr>\n",
       "    <tr>\n",
       "      <th>1</th>\n",
       "      <td>1</td>\n",
       "      <td>-4885255916155087854</td>\n",
       "      <td>2016-02-04T04:26:52.136Z</td>\n",
       "      <td>Ready To Ship - We are unable to ship to PO Bo...</td>\n",
       "      <td>1</td>\n",
       "      <td>0</td>\n",
       "      <td>107.35</td>\n",
       "      <td>95</td>\n",
       "      <td>4078</td>\n",
       "      <td>-1789487307643024748</td>\n",
       "      <td>0.00</td>\n",
       "      <td>48</td>\n",
       "      <td>72</td>\n",
       "      <td>CA</td>\n",
       "      <td>ON</td>\n",
       "    </tr>\n",
       "    <tr>\n",
       "      <th>2</th>\n",
       "      <td>0</td>\n",
       "      <td>-4885255916155087854</td>\n",
       "      <td>2016-02-04T04:26:52.136Z</td>\n",
       "      <td>.</td>\n",
       "      <td>1</td>\n",
       "      <td>0</td>\n",
       "      <td>100.46</td>\n",
       "      <td>98</td>\n",
       "      <td>478</td>\n",
       "      <td>5452082314297826053</td>\n",
       "      <td>6.99</td>\n",
       "      <td>24</td>\n",
       "      <td>48</td>\n",
       "      <td>CA</td>\n",
       "      <td>ON</td>\n",
       "    </tr>\n",
       "    <tr>\n",
       "      <th>3</th>\n",
       "      <td>0</td>\n",
       "      <td>-4885255916155087854</td>\n",
       "      <td>2016-02-04T04:26:52.136Z</td>\n",
       "      <td>Fast shipping in Canada.</td>\n",
       "      <td>1</td>\n",
       "      <td>0</td>\n",
       "      <td>99.24</td>\n",
       "      <td>95</td>\n",
       "      <td>4384</td>\n",
       "      <td>-2572277640783537773</td>\n",
       "      <td>11.67</td>\n",
       "      <td>24</td>\n",
       "      <td>48</td>\n",
       "      <td>CA</td>\n",
       "      <td>ON</td>\n",
       "    </tr>\n",
       "    <tr>\n",
       "      <th>4</th>\n",
       "      <td>0</td>\n",
       "      <td>-4885255916155087854</td>\n",
       "      <td>2016-02-04T04:26:52.136Z</td>\n",
       "      <td>NaN</td>\n",
       "      <td>0</td>\n",
       "      <td>0</td>\n",
       "      <td>109.48</td>\n",
       "      <td>94</td>\n",
       "      <td>105</td>\n",
       "      <td>-8704029307873847986</td>\n",
       "      <td>8.99</td>\n",
       "      <td>24</td>\n",
       "      <td>48</td>\n",
       "      <td>CA</td>\n",
       "      <td>ON</td>\n",
       "    </tr>\n",
       "  </tbody>\n",
       "</table>\n",
       "</div>"
      ],
      "text/plain": [
       "  IsWinner            ProductId         TimeOfOfferChange  \\\n",
       "0        0 -4885255916155087854  2016-02-04T04:26:52.136Z   \n",
       "1        1 -4885255916155087854  2016-02-04T04:26:52.136Z   \n",
       "2        0 -4885255916155087854  2016-02-04T04:26:52.136Z   \n",
       "3        0 -4885255916155087854  2016-02-04T04:26:52.136Z   \n",
       "4        0 -4885255916155087854  2016-02-04T04:26:52.136Z   \n",
       "\n",
       "                                      ConditionNotes IsFeaturedMerchant  \\\n",
       "0                                                NaN                  1   \n",
       "1  Ready To Ship - We are unable to ship to PO Bo...                  1   \n",
       "2                                                  .                  1   \n",
       "3                           Fast shipping in Canada.                  1   \n",
       "4                                                NaN                  0   \n",
       "\n",
       "  IsFulfilledByAmazon  ListingPrice  SellerFeedbackRating  \\\n",
       "0                   1         94.00                     0   \n",
       "1                   0        107.35                    95   \n",
       "2                   0        100.46                    98   \n",
       "3                   0         99.24                    95   \n",
       "4                   0        109.48                    94   \n",
       "\n",
       "   SellerFeedbackCount             SellerId  ShippingPrice  \\\n",
       "0                    0  1207135739277432339           0.00   \n",
       "1                 4078 -1789487307643024748           0.00   \n",
       "2                  478  5452082314297826053           6.99   \n",
       "3                 4384 -2572277640783537773          11.67   \n",
       "4                  105 -8704029307873847986           8.99   \n",
       "\n",
       "   ShippingTime_minHours  ShippingTime_maxHours ShipsFromCountry  \\\n",
       "0                    672                   1008              NaN   \n",
       "1                     48                     72               CA   \n",
       "2                     24                     48               CA   \n",
       "3                     24                     48               CA   \n",
       "4                     24                     48               CA   \n",
       "\n",
       "  ShipsFromState  \n",
       "0            NaN  \n",
       "1             ON  \n",
       "2             ON  \n",
       "3             ON  \n",
       "4             ON  "
      ]
     },
     "execution_count": 192,
     "metadata": {},
     "output_type": "execute_result"
    }
   ],
   "source": [
    "# Save cleaned dataframe to new CSV file\n",
    "clean_df.to_csv('amazon-offers-samples-raw-cleaned.csv', index=False)\n",
    "\n",
    "clean_df.head(5)"
   ]
  },
  {
   "cell_type": "markdown",
   "metadata": {},
   "source": [
    "# (3) Exploring relationships between feature pairs.\n",
    "## Choose a subset of features you find promising and plot pairwise feature interactions (e.g., continuous-continuous feature plot or continuous-categorical plots or correlation plots). Explain your choices.\n",
    "\n",
    "The features that I will use to look at pairwise feature interaction are the following continuous features:\n",
    "- ListingPrice\n",
    "- SellerFeedbackRating\n",
    "- SellerFeedbackCount\n",
    "- ShippingPrice\n",
    "\n",
    "\n",
    "and the following categorical features:\n",
    "- IsWinner\n",
    "- IsFeaturedMerchant\n",
    "- IsFulfilledByAmazon\n",
    "- ShipsFromCountry\n",
    "- ShipsFromState"
   ]
  },
  {
   "cell_type": "markdown",
   "metadata": {},
   "source": [
    "## Categorical-categorical feature plots\n",
    "\n",
    "In this section, I create stacked bar charts for pairs of categorical features. I create an extra column 'percent' in the dataframe in order to calculate the percentage of rows having particular values for a pair of features.\n",
    "\n",
    "### IsWinner by IsFeaturedMerchant"
   ]
  },
  {
   "cell_type": "code",
   "execution_count": 193,
   "metadata": {
    "collapsed": false
   },
   "outputs": [
    {
     "data": {
      "text/plain": [
       "(0, 100)"
      ]
     },
     "execution_count": 193,
     "metadata": {},
     "output_type": "execute_result"
    },
    {
     "data": {
      "image/png": "[encoded data removed]",
      "text/plain": [
       "<matplotlib.figure.Figure at 0x11fc80550>"
      ]
     },
     "metadata": {},
     "output_type": "display_data"
    }
   ],
   "source": [
    "# Counts the number of IsFeaturedMerchant = 0 (i.e. negative result)\n",
    "NotFeaturedMerchant_count = 1 / clean_df[clean_df.IsFeaturedMerchant == 0].count()['IsFeaturedMerchant']\n",
    "\n",
    "# Counts the number of IsFeaturedMerchant = 1 (i.e. positive result)\n",
    "IsFeaturedMerchant_count = 1 / clean_df[clean_df.IsFeaturedMerchant == 1].count()['IsFeaturedMerchant']\n",
    "\n",
    "# Create a new column in the dataframe called percent and insert IsFeaturedMerchant_count in all cells\n",
    "clean_df['percent'] = IsFeaturedMerchant_count * 100\n",
    "\n",
    "# Find indexes of all rows containing negative value for IsFeaturedMerchant\n",
    "index_list = clean_df[clean_df['IsFeaturedMerchant'] == 0].index.tolist()\n",
    "\n",
    "# For each row with a 0 value, insert NotFeaturedMerchant_count in the percent column\n",
    "for i in index_list:\n",
    "    clean_df.loc[i, 'percent'] = NotFeaturedMerchant_count * 100\n",
    "\n",
    "# Group dataframe by IsFeaturedMerchant and IsWinner and sum precent\n",
    "category_group = clean_df[['percent','IsFeaturedMerchant','IsWinner']].groupby(['IsFeaturedMerchant','IsWinner']).sum()\n",
    "\n",
    "# Plot values of category_group in a stacked bar chart\n",
    "my_plot = category_group.unstack().plot(kind='bar', stacked=True, title=\"IsWinner by IsFeaturedMerchant\", figsize=(13,7))\n",
    "\n",
    "# Define legend colours and text and add to the plot\n",
    "red_patch = mpatches.Patch(color='green', label='IsWinner')\n",
    "blue_patch = mpatches.Patch(color='blue', label='NotWinner')\n",
    "my_plot.legend(handles=[red_patch, blue_patch], frameon = True)\n",
    "\n",
    "# Define x and y labels and min and max values for the y axis\n",
    "my_plot.set_xlabel(\"IsFeaturedMerchant\")\n",
    "my_plot.set_ylabel(\"% IsWinner\")\n",
    "my_plot.set_ylim([0,100])"
   ]
  },
  {
   "cell_type": "markdown",
   "metadata": {},
   "source": [
    "### IsWinner by IsFulfilledByAmazon"
   ]
  },
  {
   "cell_type": "code",
   "execution_count": 194,
   "metadata": {
    "collapsed": false
   },
   "outputs": [
    {
     "data": {
      "text/plain": [
       "(0, 100)"
      ]
     },
     "execution_count": 194,
     "metadata": {},
     "output_type": "execute_result"
    },
    {
     "data": {
      "image/png": "[encoded data removed]",
      "text/plain": [
       "<matplotlib.figure.Figure at 0x11b51a438>"
      ]
     },
     "metadata": {},
     "output_type": "display_data"
    }
   ],
   "source": [
    "# Counts the number of IsFulfilledByAmazon = 0 (i.e. negative result)\n",
    "NotFulfilledByAmazon_count = 1 / clean_df[clean_df.IsFulfilledByAmazon == 0].count()['IsFulfilledByAmazon']\n",
    "\n",
    "# Counts the number of IsFulfilledByAmazon = 1 (i.e. positive result)\n",
    "IsFulfilledByAmazon_count = 1 / clean_df[clean_df.IsFulfilledByAmazon == 1].count()['IsFulfilledByAmazon']\n",
    "\n",
    "# Create a new column in the dataframe called percent and insert IsFulfilledByAmazon_count in all cells\n",
    "clean_df['percent'] = IsFulfilledByAmazon_count * 100\n",
    "\n",
    "# Find indexes of all rows containing negative value for IsFulfilledByAmazon\n",
    "index_list = clean_df[clean_df['IsFulfilledByAmazon'] == 0].index.tolist()\n",
    "\n",
    "# For each row with a 0 value, insert NotFulfilledByAmazon_count in the percent column\n",
    "for i in index_list:\n",
    "    clean_df.loc[i, 'percent'] = NotFulfilledByAmazon_count * 100\n",
    "\n",
    "# Group dataframe by IsFulfilledByAmazon and IsWinner and sum precent\n",
    "category_group = clean_df[['percent','IsFulfilledByAmazon','IsWinner']].groupby(['IsFulfilledByAmazon','IsWinner']).sum()\n",
    "\n",
    "# Plot values of category_group in a stacked bar chart\n",
    "my_plot = category_group.unstack().plot(kind='bar', stacked=True, title=\"IsWinner by IsFulfilledByAmazon\", figsize=(13,7))\n",
    "\n",
    "# Define legend colours and text and add to the plot\n",
    "red_patch = mpatches.Patch(color='green', label='IsWinner')\n",
    "blue_patch = mpatches.Patch(color='blue', label='NotWinner')\n",
    "my_plot.legend(handles=[red_patch, blue_patch], frameon = True)\n",
    "\n",
    "# Define x and y labels and min and max values for the y axis\n",
    "my_plot.set_xlabel(\"IsFulfilledByAmazon\")\n",
    "my_plot.set_ylabel(\"% IsWinner\")\n",
    "my_plot.set_ylim([0,100])"
   ]
  },
  {
   "cell_type": "markdown",
   "metadata": {},
   "source": [
    "### IsWinner by ShipsFromCountry"
   ]
  },
  {
   "cell_type": "code",
   "execution_count": 195,
   "metadata": {
    "collapsed": false,
    "scrolled": false
   },
   "outputs": [
    {
     "data": {
      "text/plain": [
       "(0, 100)"
      ]
     },
     "execution_count": 195,
     "metadata": {},
     "output_type": "execute_result"
    },
    {
     "data": {
      "image/png": "[encoded data removed]",
      "text/plain": [
       "<matplotlib.figure.Figure at 0x11b5c9cf8>"
      ]
     },
     "metadata": {},
     "output_type": "display_data"
    }
   ],
   "source": [
    "# List unique values in ShipsFromCountry\n",
    "shipsfromcountries = pd.unique(clean_df.ShipsFromCountry.ravel())\n",
    "\n",
    "# Insert new column in df called 'percent' and fill with 0s\n",
    "clean_df['percent'] = 0\n",
    "\n",
    "# Iterate through the unique values in ShipsFromCountry and for each value count the amount of IsWinner \n",
    "# Find the indexes of each row in a particular ShipsFromCountry and for each of these row insert count * 100 in the percent column\n",
    "for c in shipsfromcountries:\n",
    "    count = 1 / clean_df[clean_df.ShipsFromCountry == c].count()['IsWinner']\n",
    "    index_list = clean_df[clean_df['ShipsFromCountry'] == c].index.tolist()\n",
    "    for i in index_list:\n",
    "        clean_df.loc[i, 'percent'] = count * 100\n",
    "        \n",
    "# Group dataframe by ShipsFromCountry and IsWinner and sum\n",
    "group = clean_df[['percent','ShipsFromCountry','IsWinner']].groupby(['ShipsFromCountry','IsWinner']).sum()\n",
    "\n",
    "# Plot values of group in a stacked bar chart\n",
    "my_plot = group.unstack().plot(kind='bar', stacked=True, title=\"IsWinner by ShipsFromCountry\", figsize=(15,7))\n",
    "\n",
    "# Define label colours and text and add to the plot\n",
    "red_patch = mpatches.Patch(color='green', label='IsWinner')\n",
    "blue_patch = mpatches.Patch(color='blue', label='Not IsWinner')\n",
    "my_plot.legend(handles=[red_patch, blue_patch], frameon = True)\n",
    "\n",
    "# Define x and y labels and min and max values for the y axis\n",
    "my_plot.set_xlabel(\"ShipsFromCountry\")\n",
    "my_plot.set_ylabel(\"% IsWinner\")\n",
    "my_plot.set_ylim([0,100])"
   ]
  },
  {
   "cell_type": "markdown",
   "metadata": {},
   "source": [
    "### IsWinner by ShipsFromState"
   ]
  },
  {
   "cell_type": "code",
   "execution_count": 196,
   "metadata": {
    "collapsed": false
   },
   "outputs": [
    {
     "data": {
      "text/plain": [
       "(0, 100)"
      ]
     },
     "execution_count": 196,
     "metadata": {},
     "output_type": "execute_result"
    },
    {
     "data": {
      "image/png": "[encoded data removed]",
      "text/plain": [
       "<matplotlib.figure.Figure at 0x11b711b38>"
      ]
     },
     "metadata": {},
     "output_type": "display_data"
    }
   ],
   "source": [
    "# List unique values in ShipsFromState\n",
    "shipsfromstates = pd.unique(clean_df.ShipsFromState.ravel())\n",
    "\n",
    "# Insert new column in df called 'percent' and fill with 0s\n",
    "clean_df['percent'] = 0\n",
    "\n",
    "# Iterate through the unique values in ShipsFromState and for each value count the amount of IsWinner \n",
    "# Find the indexes of each row in a particular ShipsFromState and for each of these row insert count * 100 in the percent column\n",
    "for c in shipsfromstates:\n",
    "    count = 1 / clean_df[clean_df.ShipsFromState == c].count()['IsWinner']\n",
    "    index_list = clean_df[clean_df['ShipsFromState'] == c].index.tolist()\n",
    "    for i in index_list:\n",
    "        clean_df.loc[i, 'percent'] = count * 100\n",
    "        \n",
    "# Group dataframe by ShipsFromState and IsWinner and sum\n",
    "group = clean_df[['percent','ShipsFromState','IsWinner']].groupby(['ShipsFromState','IsWinner']).sum()\n",
    "\n",
    "# Plot values of group in a stacked bar chart\n",
    "my_plot = group.unstack().plot(kind='bar', stacked=True, title=\"IsWinner Candidate by ShipsFromState\", figsize=(15,7))\n",
    "\n",
    "# Define label colours and text and add to the plot\n",
    "red_patch = mpatches.Patch(color='green', label='IsWinner')\n",
    "blue_patch = mpatches.Patch(color='blue', label='Not IsWinner')\n",
    "my_plot.legend(handles=[red_patch, blue_patch], frameon = True)\n",
    "\n",
    "# Define x and y labels and min and max values for the y axis\n",
    "my_plot.set_xlabel(\"ShipsFromState\")\n",
    "my_plot.set_ylabel(\"% IsWinner\")\n",
    "my_plot.set_ylim([0,100])"
   ]
  },
  {
   "cell_type": "markdown",
   "metadata": {},
   "source": [
    "## Continuous-categorical feature plots\n",
    "\n",
    "In this section, I plot all continuous features with the categorical feature 'IsWinner' in box plots."
   ]
  },
  {
   "cell_type": "code",
   "execution_count": 197,
   "metadata": {
    "collapsed": false
   },
   "outputs": [
    {
     "data": {
      "text/plain": [
       "<matplotlib.figure.Figure at 0x11f8e4588>"
      ]
     },
     "metadata": {},
     "output_type": "display_data"
    },
    {
     "data": {
      "image/png": "[encoded data removed]",
      "text/plain": [
       "<matplotlib.figure.Figure at 0x11b475cf8>"
      ]
     },
     "metadata": {},
     "output_type": "display_data"
    },
    {
     "data": {
      "image/png": "[encoded data removed]",
      "text/plain": [
       "<matplotlib.figure.Figure at 0x11b475710>"
      ]
     },
     "metadata": {},
     "output_type": "display_data"
    },
    {
     "data": {
      "image/png": "[encoded data removed]",
      "text/plain": [
       "<matplotlib.figure.Figure at 0x11fb37c18>"
      ]
     },
     "metadata": {},
     "output_type": "display_data"
    }
   ],
   "source": [
    "plt.figure()\n",
    "flierprops = dict(marker='o', markerfacecolor='green', markersize=6,\n",
    "                  linestyle='none')\n",
    "bp = clean_df.boxplot(column=['ListingPrice'], by=['IsWinner'], flierprops=flierprops, figsize=(10,7))\n",
    "bp = clean_df.boxplot(column=['SellerFeedbackRating'], by=['IsWinner'], flierprops=flierprops, figsize=(10,7))\n",
    "bp = clean_df.boxplot(column=['SellerFeedbackCount'], by=['IsWinner'], flierprops=flierprops, figsize=(10,7))\n"
   ]
  },
  {
   "cell_type": "markdown",
   "metadata": {},
   "source": [
    "## Correlations for the numeric features\n",
    "\n",
    "Correlation matrix for the continuous features."
   ]
  },
  {
   "cell_type": "code",
   "execution_count": 198,
   "metadata": {
    "collapsed": false
   },
   "outputs": [
    {
     "data": {
      "text/plain": [
       "(array([ 0.5,  1.5,  2.5,  3.5]), <a list of 4 Text xticklabel objects>)"
      ]
     },
     "execution_count": 198,
     "metadata": {},
     "output_type": "execute_result"
    },
    {
     "data": {
      "image/png": "[encoded data removed]",
      "text/plain": [
       "<matplotlib.figure.Figure at 0x11b5380f0>"
      ]
     },
     "metadata": {},
     "output_type": "display_data"
    }
   ],
   "source": [
    "# Correlation matrix using code found on https://stanford.edu/~mwaskom/software/seaborn/examples/many_pairwise_correlations.html\n",
    "clean_df = pd.read_csv('amazon-offers-samples-raw-cleaned.csv')\n",
    "sns.set(style=\"white\")\n",
    "\n",
    "# Select columns containing continuous data\n",
    "continuous_columns = clean_df[['ListingPrice','SellerFeedbackRating','SellerFeedbackCount','ShippingPrice']].columns\n",
    "\n",
    "# Calculate correlation of all pairs of continuous features\n",
    "corr = clean_df[continuous_columns].corr()\n",
    "\n",
    "# Generate a mask for the upper triangle\n",
    "mask = np.zeros_like(corr, dtype=np.bool)\n",
    "mask[np.triu_indices_from(mask)] = True\n",
    "\n",
    "# Set up the matplotlib figure\n",
    "f, ax = plt.subplots(figsize=(11, 9))\n",
    "\n",
    "# Generate a custom colormap - blue and red\n",
    "cmap = sns.diverging_palette(220, 10, as_cmap=True)\n",
    "\n",
    "# Draw the heatmap with the mask and correct aspect ratio\n",
    "sns.heatmap(corr, annot=True, mask=mask, cmap=cmap, vmax=1, vmin=-1,\n",
    "            square=True, xticklabels=True, yticklabels=True,\n",
    "            linewidths=.5, cbar_kws={\"shrink\": .5}, ax=ax)\n",
    "plt.yticks(rotation = 0)\n",
    "plt.xticks(rotation = 45)"
   ]
  },
  {
   "cell_type": "markdown",
   "metadata": {},
   "source": [
    "## Discuss your findings from the plots above. Do you find any features or feature combinations that are indicative of the target outcome (IsWinner)? Explain in plain words (a short paragraph) the story of your findings so far.\n",
    "\n",
    "#### The following observations are made from the categorical-categorical feature plots:\n",
    "IsWinner by IsFeaturedMerchant - about 10% of the positive IsFeaturedMerchant category has positive IsWinner outcome. None of the merchants who are not featured has a positive IsWinner outcome. Therefore, looking at this data set alone, merchants not featured will not have a positive IsWinner outcome. Merchants who are featured do have a chance of having a positive target outcome, though it is quite rare. Therefore, I conclude that other factors also play a large part in bringing about a positive target outcome.\n",
    "\n",
    "IsWinner by IsFulfilledByAmazon - the IsWinner outcome is present in both cases. However, the IsWinner outcome occurs for about 60% of the time when fullfilled by Amazon, and less than 10% of the time when not. Therefore, a merchant for whom the 'IsFulfilledByAmazon' is positive has a far greater chance of a positive IsWinner outcome than one who is not.\n",
    "\n",
    "IsWinner by ShipsFromCountry - there are only 3 countries with a positive IsWinner outcome. Canada(CA) has the highest, with 10%, Japan(JP) and United States(US) have less than 5% each. It must be noted here that from previous analysis there is 37% null values in ShipsFromCountry category. Therefore, even within this limited dataset, there is a substantial amount of missing data for this plot. Also, the majority of the dataset is within a small set of regions which would skew the results in favour of those regions.\n",
    "\n",
    "IsWinner by ShipsFromState - two states, British Columbia(BC), in Canada and Pennsylvania(PA) in the US, have 30% and 20% positive outcomes for the target IsWinner. This is consistent with the country results above. Again, the null values this category is very high at 41%. As noted above, in 'IsWinner by ShipsFromCountry', the dataset is within a limited set of regions which could skew the results.\n",
    "\n",
    "#### Continuous-categorical feature plots (Box Plots):\n",
    "SellerFeedbackRating - the median for this data for both positive and negative IsWinner outcomes is approximately 95%. The negative result sits within a narrow band of between 85% and 100% with quartiles one to three of the data between 85% and 95%. In contrast, a positive outcome for IsWinner has a broad range, from 0% to 100%, and has the first to third quartiles below 95%, with fourth quartile above 95%. It is difficult to draw any inferences here other than that a positive target outcome has a broad range and a negative outcome a narrow range.\n",
    "\n",
    "SellerFeedbackCount - both positive and negative IsWinner outcomes lie below the 15k count mark. There are outliers in both instances. It is difficult to draw any inferences here.\n",
    "\n",
    "ListingPrice - the plot is quite similar in both outcome, and again it is difficult to draw any inferences here.\n",
    "\n",
    "#### Correlations for the numeric features:\n",
    "There does not appear to be any real correlation between the numeric features in this dataset.\n",
    "\n",
    "#### Limitations in dataset:\n",
    "The overall analysis of the dataset leads to the following observations:\n",
    "- At 10k rows, the dataset is relatively small for the type of analysis and target outcome set out.\n",
    "- Data has been collected over a short period, given by TimeOfOfferChang date 2016-02-04.\n",
    "- The regions included in the dataset are also limited, predominently Canada (British Columbia), some regions in the US, and then small amounts of data relating to other regions.\n",
    "\n",
    "A larger, more representative data set would yield better analysis and results for the IsWinner target outcome.\n",
    "\n"
   ]
  }
 ],
 "metadata": {
  "anaconda-cloud": {},
  "kernelspec": {
   "display_name": "Python [default]",
   "language": "python",
   "name": "python3"
  },
  "language_info": {
   "codemirror_mode": {
    "name": "ipython",
    "version": 3
   },
   "file_extension": ".py",
   "mimetype": "text/x-python",
   "name": "python",
   "nbconvert_exporter": "python",
   "pygments_lexer": "ipython3",
   "version": "3.5.2"
  }
 },
 "nbformat": 4,
 "nbformat_minor": 0
}
